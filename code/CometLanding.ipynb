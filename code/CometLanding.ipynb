{
 "cells": [
  {
   "cell_type": "markdown",
   "metadata": {},
   "source": [
    "# Data Manipulation in Python (CS2006 P2)"
   ]
  },
  {
   "cell_type": "markdown",
   "metadata": {},
   "source": [
    "On the 12th of November 2014, the European Space Agency lander Philae made the first ever soft landing of a spacecraft on the surface of a comet, 67P/Churyumov-Gerasimenko, having been carried there by the probe Rosetta. The news of the acheivement was disseminated through various social media platforms over the following days and weeks, including Twitter. This notebook analyses data independently gathered from Twitter to track the volume and nature of user activity related to the landing over the period of 3 weeks after the landing."
   ]
  },
  {
   "cell_type": "code",
   "execution_count": 2,
   "metadata": {},
   "outputs": [
    {
     "ename": "ImportError",
     "evalue": "No module named wordcloud",
     "output_type": "error",
     "traceback": [
      "\u001b[0;31m---------------------------------------------------------------------------\u001b[0m",
      "\u001b[0;31mImportError\u001b[0m                               Traceback (most recent call last)",
      "\u001b[0;32m<ipython-input-2-bb339a972436>\u001b[0m in \u001b[0;36m<module>\u001b[0;34m()\u001b[0m\n\u001b[1;32m      4\u001b[0m \u001b[0;32mimport\u001b[0m \u001b[0mnumpy\u001b[0m \u001b[0;32mas\u001b[0m \u001b[0mnp\u001b[0m\u001b[0;34m\u001b[0m\u001b[0m\n\u001b[1;32m      5\u001b[0m \u001b[0;32mimport\u001b[0m \u001b[0mmatplotlib\u001b[0m\u001b[0;34m.\u001b[0m\u001b[0mdates\u001b[0m \u001b[0;32mas\u001b[0m \u001b[0mmdates\u001b[0m\u001b[0;34m;\u001b[0m\u001b[0;34m\u001b[0m\u001b[0m\n\u001b[0;32m----> 6\u001b[0;31m \u001b[0;32mfrom\u001b[0m \u001b[0mwordcloud\u001b[0m \u001b[0;32mimport\u001b[0m \u001b[0mWordCloud\u001b[0m\u001b[0;34m,\u001b[0m \u001b[0mSTOPWORDS\u001b[0m\u001b[0;34m\u001b[0m\u001b[0m\n\u001b[0m\u001b[1;32m      7\u001b[0m \u001b[0;32mimport\u001b[0m \u001b[0mplotly\u001b[0m\u001b[0;34m\u001b[0m\u001b[0m\n\u001b[1;32m      8\u001b[0m \u001b[0;32mimport\u001b[0m \u001b[0mplotly\u001b[0m\u001b[0;34m.\u001b[0m\u001b[0mplotly\u001b[0m \u001b[0;32mas\u001b[0m \u001b[0mpy\u001b[0m\u001b[0;34m\u001b[0m\u001b[0m\n",
      "\u001b[0;31mImportError\u001b[0m: No module named wordcloud"
     ]
    }
   ],
   "source": [
    "#Imports\n",
    "import pandas as pd\n",
    "import matplotlib.pyplot as plt;\n",
    "import math\n",
    "import numpy as np\n",
<<<<<<< HEAD
    "import matplotlib.dates as mdates;\n",
    "from wordcloud import WordCloud, STOPWORDS\n",
=======
    "\n",
    "from plotly import *\n",
    "from plotly.offline import download_plotlyjs, init_notebook_mode, plot, iplot\n",
    "\n",
>>>>>>> 9fdd327140819a6497727815faeae348d6c03104
    "import plotly\n",
    "import plotly.plotly as py\n",
    "import plotly.graph_objs as go\n",
    "import operator\n",
    "from collections import *\n"
   ]
  },
  {
   "cell_type": "code",
   "execution_count": 3,
   "metadata": {},
   "outputs": [
    {
     "ename": "ImportError",
     "evalue": "attempted relative import with no known parent package",
     "output_type": "error",
     "traceback": [
      "\u001b[0;31m---------------------------------------------------------------------------\u001b[0m",
      "\u001b[0;31mImportError\u001b[0m                               Traceback (most recent call last)",
      "\u001b[0;32m<ipython-input-2-09aeca815748>\u001b[0m in \u001b[0;36m<module>\u001b[0;34m()\u001b[0m\n\u001b[0;32m----> 1\u001b[0;31m \u001b[0;32mfrom\u001b[0m \u001b[0mwordcloud\u001b[0m \u001b[0;32mimport\u001b[0m \u001b[0mWordCloud\u001b[0m\u001b[0;34m,\u001b[0m \u001b[0mSTOPWORDS\u001b[0m\u001b[0;34m\u001b[0m\u001b[0m\n\u001b[0m",
      "\u001b[0;32m/Volumes/ir47/IdeaProjects/Second Year/CS2006/Python2/code/wordcloud.py\u001b[0m in \u001b[0;36m<module>\u001b[0;34m()\u001b[0m\n\u001b[1;32m     22\u001b[0m \u001b[0;32mfrom\u001b[0m \u001b[0mPIL\u001b[0m \u001b[0;32mimport\u001b[0m \u001b[0mImageFont\u001b[0m\u001b[0;34m\u001b[0m\u001b[0m\n\u001b[1;32m     23\u001b[0m \u001b[0;34m\u001b[0m\u001b[0m\n\u001b[0;32m---> 24\u001b[0;31m \u001b[0;32mfrom\u001b[0m \u001b[0;34m.\u001b[0m\u001b[0mquery_integral_image\u001b[0m \u001b[0;32mimport\u001b[0m \u001b[0mquery_integral_image\u001b[0m\u001b[0;34m\u001b[0m\u001b[0m\n\u001b[0m\u001b[1;32m     25\u001b[0m \u001b[0;32mfrom\u001b[0m \u001b[0;34m.\u001b[0m\u001b[0mtokenization\u001b[0m \u001b[0;32mimport\u001b[0m \u001b[0munigrams_and_bigrams\u001b[0m\u001b[0;34m,\u001b[0m \u001b[0mprocess_tokens\u001b[0m\u001b[0;34m\u001b[0m\u001b[0m\n\u001b[1;32m     26\u001b[0m \u001b[0;34m\u001b[0m\u001b[0m\n",
      "\u001b[0;31mImportError\u001b[0m: attempted relative import with no known parent package"
     ]
    }
   ],
   "source": [
    "from wordcloud import WordCloud, STOPWORDS"
   ]
  },
  {
   "cell_type": "code",
   "execution_count": 3,
   "metadata": {},
   "outputs": [],
   "source": [
    "df=pd.read_csv(\"../data/CometLanding.csv\",encoding=\"UTF-8\")"
   ]
  },
  {
   "cell_type": "code",
   "execution_count": 4,
   "metadata": {},
   "outputs": [
    {
     "data": {
      "text/plain": [
       "77319"
      ]
     },
     "execution_count": 4,
     "metadata": {},
     "output_type": "execute_result"
    }
   ],
   "source": [
    "len(df)"
   ]
  },
  {
   "cell_type": "code",
   "execution_count": 5,
   "metadata": {},
   "outputs": [],
   "source": [
    "df.drop_duplicates(['id_str'],inplace = True)"
   ]
  },
  {
   "cell_type": "code",
   "execution_count": 6,
   "metadata": {},
   "outputs": [],
   "source": [
    "numTweets = len(df)"
   ]
  },
  {
   "cell_type": "markdown",
   "metadata": {},
   "source": [
    "The raw data contained some duplicate tweets, which were removed, and the number of total remaining unique tweets is displayed below: "
   ]
  },
  {
   "cell_type": "code",
   "execution_count": 7,
   "metadata": {},
   "outputs": [
    {
     "name": "stdout",
     "output_type": "stream",
     "text": [
      "Total number of Tweets: 77268\n"
     ]
    }
   ],
   "source": [
    "print(\"Total number of Tweets: \" + str(numTweets))"
   ]
  },
  {
   "cell_type": "code",
   "execution_count": 8,
   "metadata": {},
   "outputs": [],
   "source": [
    "df = df[df['text'].notnull()]"
   ]
  },
  {
   "cell_type": "markdown",
   "metadata": {},
   "source": [
    "The number of unique users is displayed below:"
   ]
  },
  {
   "cell_type": "code",
<<<<<<< HEAD
   "execution_count": 9,
=======
   "execution_count": 10,
>>>>>>> 9fdd327140819a6497727815faeae348d6c03104
   "metadata": {},
   "outputs": [
    {
     "data": {
      "text/plain": [
       "50195"
      ]
     },
<<<<<<< HEAD
     "execution_count": 9,
=======
     "execution_count": 10,
>>>>>>> 9fdd327140819a6497727815faeae348d6c03104
     "metadata": {},
     "output_type": "execute_result"
    }
   ],
   "source": [
    "len(df['from_user'].unique())"
   ]
  },
  {
   "cell_type": "markdown",
   "metadata": {},
   "source": [
    "The number of tweets by language are displayed here. By far the most common is US English, with 52316 tweets."
   ]
  },
  {
   "cell_type": "code",
<<<<<<< HEAD
   "execution_count": 10,
=======
   "execution_count": 13,
>>>>>>> 9fdd327140819a6497727815faeae348d6c03104
   "metadata": {},
   "outputs": [],
   "source": [
    "language = df.groupby('user_lang')"
   ]
  },
  {
   "cell_type": "code",
<<<<<<< HEAD
   "execution_count": 11,
=======
   "execution_count": 14,
>>>>>>> 9fdd327140819a6497727815faeae348d6c03104
   "metadata": {},
   "outputs": [
    {
     "data": {
      "text/plain": [
       "user_lang\n",
       "ar           428\n",
       "bg             1\n",
       "ca           309\n",
       "cs            42\n",
       "da            89\n",
       "de          2916\n",
       "el            29\n",
       "en         52316\n",
       "en-AU          1\n",
       "en-GB         23\n",
       "en-gb       1972\n",
       "es          7540\n",
       "es-MX          2\n",
       "eu            62\n",
       "fa             2\n",
       "fi           108\n",
       "fil           10\n",
       "fr          3313\n",
       "gl            36\n",
       "he             2\n",
       "hi             2\n",
       "hu            41\n",
       "id            66\n",
       "it          2664\n",
       "ja          1514\n",
       "ko            98\n",
       "msa            1\n",
       "nb             1\n",
       "nl           838\n",
       "no            36\n",
       "pl           157\n",
       "pt           508\n",
       "pt-PT          1\n",
       "ro             8\n",
       "ru           794\n",
       "sv           126\n",
       "th            57\n",
       "tr           761\n",
       "uk            43\n",
       "ur             1\n",
       "vi             1\n",
       "xx-lc         24\n",
       "zh-CN          6\n",
       "zh-Hans        6\n",
       "zh-cn        285\n",
       "zh-tw         27\n",
       "dtype: int64"
      ]
     },
<<<<<<< HEAD
     "execution_count": 11,
=======
     "execution_count": 14,
>>>>>>> 9fdd327140819a6497727815faeae348d6c03104
     "metadata": {},
     "output_type": "execute_result"
    }
   ],
   "source": [
    "language.size()"
   ]
  },
  {
   "cell_type": "markdown",
   "metadata": {},
   "source": [
    "The majority of tweets were actually retweets, which meant that they started with the letters \"RT\":"
   ]
  },
  {
   "cell_type": "code",
<<<<<<< HEAD
   "execution_count": 12,
=======
   "execution_count": 15,
>>>>>>> 9fdd327140819a6497727815faeae348d6c03104
   "metadata": {},
   "outputs": [],
   "source": [
    "dfNoRT = df[~df.text.str.startswith('RT', na=False)]"
   ]
  },
  {
   "cell_type": "code",
<<<<<<< HEAD
   "execution_count": 13,
=======
   "execution_count": 16,
>>>>>>> 9fdd327140819a6497727815faeae348d6c03104
   "metadata": {},
   "outputs": [],
   "source": [
    "numReTweets = numTweets - len(dfNoRT) "
   ]
  },
  {
   "cell_type": "code",
<<<<<<< HEAD
   "execution_count": 14,
=======
   "execution_count": 17,
>>>>>>> 9fdd327140819a6497727815faeae348d6c03104
   "metadata": {},
   "outputs": [
    {
     "name": "stdout",
     "output_type": "stream",
     "text": [
      "Total number of retweets: 59999\n"
     ]
    }
   ],
   "source": [
    "print(\"Total number of retweets: \" + str(numReTweets))"
   ]
  },
  {
   "cell_type": "markdown",
<<<<<<< HEAD
   "metadata": {},
   "source": [
    "Roughly 1/2 of the remainder are replies to earlier tweets."
   ]
  },
  {
   "cell_type": "code",
   "execution_count": 15,
=======
>>>>>>> 9fdd327140819a6497727815faeae348d6c03104
   "metadata": {},
   "source": [
    "Roughly 1/2 of the remainder are replies to earlier tweets."
   ]
  },
  {
   "cell_type": "code",
<<<<<<< HEAD
   "execution_count": 16,
=======
   "execution_count": 18,
>>>>>>> 9fdd327140819a6497727815faeae348d6c03104
   "metadata": {},
   "outputs": [
    {
     "name": "stdout",
     "output_type": "stream",
     "text": [
      "1723\n"
     ]
    }
   ],
   "source": [
    "dfReplies = df\n",
    "numReplies = 0\n",
    "\n",
    "\n",
    "for index, row in dfReplies.iterrows():\n",
    "        text = (row['in_reply_to_screen_name'])\n",
    "        if(not pd.isnull(text)):\n",
    "            numReplies +=1\n",
    "\n",
    "            \n",
    "print(numReplies)"
   ]
  },
  {
   "cell_type": "code",
<<<<<<< HEAD
   "execution_count": 17,
=======
   "execution_count": 19,
>>>>>>> 9fdd327140819a6497727815faeae348d6c03104
   "metadata": {},
   "outputs": [
    {
     "name": "stdout",
     "output_type": "stream",
     "text": [
      "Total number of replies: 1723\n"
     ]
    }
   ],
   "source": [
    "print(\"Total number of replies: \" + str(numReplies))"
   ]
  },
  {
   "cell_type": "markdown",
   "metadata": {},
   "source": [
    "Hashtags are an important "
   ]
  },
  {
   "cell_type": "code",
<<<<<<< HEAD
   "execution_count": 18,
=======
   "execution_count": 20,
>>>>>>> 9fdd327140819a6497727815faeae348d6c03104
   "metadata": {},
   "outputs": [],
   "source": [
    "import re\n",
    "hashtags = []\n",
    "for index, row in dfNoRT.iterrows():\n",
    "    text = (row['text'].split(\" \"))       \n",
    "    for token in text:\n",
    "        re.sub('[\\W_]', '', token)\n",
    "        if token.startswith('#'):\n",
    "            hashtags.append(str(token))\n",
    "\n"
   ]
  },
  {
   "cell_type": "code",
<<<<<<< HEAD
   "execution_count": 19,
=======
   "execution_count": 21,
>>>>>>> 9fdd327140819a6497727815faeae348d6c03104
   "metadata": {
    "scrolled": false
   },
   "outputs": [
    {
     "name": "stdout",
     "output_type": "stream",
     "text": [
<<<<<<< HEAD
      "'#67P'=>400\n",
      "'#CometLanding:'=>161\n",
      "'#Rosetta'=>1471\n",
      "'#Cometlanding'=>165\n",
      "'#CometLanding.'=>244\n",
      "'#Philae'=>734\n",
      "'#rosetta'=>178\n",
      "'#ESA'=>194\n",
      "'#cometlanding'=>1834\n",
      "'#CometLanding'=>12741\n",
      "'#rosettamission'=>169\n",
      "'#HappyBirthdaySandaraPark'=>928\n",
      "'#WishKoSaPasko'=>929\n"
=======
      "'#cometlanding'=>1834\n",
      "'#CometLanding'=>12741\n",
      "'#ESA'=>194\n",
      "'#Rosetta'=>1471\n",
      "'#Philae'=>734\n",
      "'#CometLanding:'=>161\n",
      "'#rosettamission'=>169\n",
      "'#Cometlanding'=>165\n",
      "'#67P'=>400\n",
      "'#CometLanding.'=>244\n",
      "'#rosetta'=>178\n",
      "'#WishKoSaPasko'=>929\n",
      "'#HappyBirthdaySandaraPark'=>928\n"
>>>>>>> 9fdd327140819a6497727815faeae348d6c03104
     ]
    }
   ],
   "source": [
    "hashtagCount = {}\n",
    "\n",
    "for hashtag in hashtags:\n",
    "    if hashtag not in hashtagCount:\n",
    "        hashtagCount[hashtag] = 1\n",
    "    else:\n",
    "        counter = hashtagCount.get(hashtag,'none')\n",
    "        hashtagCount.update({hashtag: counter+1})\n",
    "        \n",
    "for key,val in hashtagCount.items():\n",
    "    if val>150:\n",
    "        print (repr(key) + \"=>\" + repr(val))\n",
    "    \n"
   ]
  },
  {
   "cell_type": "code",
<<<<<<< HEAD
   "execution_count": 20,
=======
   "execution_count": 22,
>>>>>>> 9fdd327140819a6497727815faeae348d6c03104
   "metadata": {
    "scrolled": true
   },
   "outputs": [
    {
     "ename": "NameError",
     "evalue": "name 'STOPWORDS' is not defined",
     "output_type": "error",
     "traceback": [
      "\u001b[0;31m---------------------------------------------------------------------------\u001b[0m",
      "\u001b[0;31mNameError\u001b[0m                                 Traceback (most recent call last)",
<<<<<<< HEAD
      "\u001b[0;32m<ipython-input-20-e67421848b4c>\u001b[0m in \u001b[0;36m<module>\u001b[0;34m()\u001b[0m\n\u001b[1;32m      5\u001b[0m \u001b[0;34m\u001b[0m\u001b[0m\n\u001b[1;32m      6\u001b[0m \u001b[0mwords\u001b[0m \u001b[0;34m=\u001b[0m \u001b[0;34m[\u001b[0m\u001b[0me\u001b[0m\u001b[0;34m[\u001b[0m\u001b[0;36m1\u001b[0m\u001b[0;34m:\u001b[0m\u001b[0;34m]\u001b[0m \u001b[0;32mfor\u001b[0m \u001b[0me\u001b[0m \u001b[0;32min\u001b[0m \u001b[0mwords\u001b[0m\u001b[0;34m]\u001b[0m\u001b[0;34m\u001b[0m\u001b[0m\n\u001b[0;32m----> 7\u001b[0;31m \u001b[0mstopwords\u001b[0m \u001b[0;34m=\u001b[0m \u001b[0mset\u001b[0m\u001b[0;34m(\u001b[0m\u001b[0mSTOPWORDS\u001b[0m\u001b[0;34m)\u001b[0m\u001b[0;34m\u001b[0m\u001b[0m\n\u001b[0m\u001b[1;32m      8\u001b[0m \u001b[0mstopwords\u001b[0m\u001b[0;34m.\u001b[0m\u001b[0madd\u001b[0m\u001b[0;34m(\u001b[0m\u001b[0;34m\"CometLanding\"\u001b[0m\u001b[0;34m)\u001b[0m\u001b[0;34m\u001b[0m\u001b[0m\n\u001b[1;32m      9\u001b[0m \u001b[0;34m\u001b[0m\u001b[0m\n",
=======
      "\u001b[0;32m<ipython-input-22-e67421848b4c>\u001b[0m in \u001b[0;36m<module>\u001b[0;34m()\u001b[0m\n\u001b[1;32m      5\u001b[0m \u001b[0;34m\u001b[0m\u001b[0m\n\u001b[1;32m      6\u001b[0m \u001b[0mwords\u001b[0m \u001b[0;34m=\u001b[0m \u001b[0;34m[\u001b[0m\u001b[0me\u001b[0m\u001b[0;34m[\u001b[0m\u001b[0;36m1\u001b[0m\u001b[0;34m:\u001b[0m\u001b[0;34m]\u001b[0m \u001b[0;32mfor\u001b[0m \u001b[0me\u001b[0m \u001b[0;32min\u001b[0m \u001b[0mwords\u001b[0m\u001b[0;34m]\u001b[0m\u001b[0;34m\u001b[0m\u001b[0m\n\u001b[0;32m----> 7\u001b[0;31m \u001b[0mstopwords\u001b[0m \u001b[0;34m=\u001b[0m \u001b[0mset\u001b[0m\u001b[0;34m(\u001b[0m\u001b[0mSTOPWORDS\u001b[0m\u001b[0;34m)\u001b[0m\u001b[0;34m\u001b[0m\u001b[0m\n\u001b[0m\u001b[1;32m      8\u001b[0m \u001b[0mstopwords\u001b[0m\u001b[0;34m.\u001b[0m\u001b[0madd\u001b[0m\u001b[0;34m(\u001b[0m\u001b[0;34m\"CometLanding\"\u001b[0m\u001b[0;34m)\u001b[0m\u001b[0;34m\u001b[0m\u001b[0m\n\u001b[1;32m      9\u001b[0m \u001b[0;34m\u001b[0m\u001b[0m\n",
>>>>>>> 9fdd327140819a6497727815faeae348d6c03104
      "\u001b[0;31mNameError\u001b[0m: name 'STOPWORDS' is not defined"
     ]
    }
   ],
   "source": [
    "words = []\n",
    "\n",
    "for key,val in hashtagCount.items():\n",
    "    words.append(key)\n",
    "    \n",
    "words = [e[1:] for e in words]\n",
    "stopwords = set(STOPWORDS)\n",
    "stopwords.add(\"CometLanding\")\n",
    "\n",
    "\n",
    "wordcloud = WordCloud(background_color='white',stopwords=stopwords,max_words=30000,max_font_size=40, random_state=42).generate(str(hashtags))\n",
    "plt.figure(figsize=(10,10))\n",
    "plt.imshow(wordcloud)\n",
    "plt.axis('off')\n",
    "plt.show()"
   ]
  },
  {
   "cell_type": "code",
<<<<<<< HEAD
   "execution_count": 21,
   "metadata": {},
   "outputs": [
    {
     "ename": "NameError",
     "evalue": "name 'go' is not defined",
     "output_type": "error",
     "traceback": [
      "\u001b[0;31m---------------------------------------------------------------------------\u001b[0m",
      "\u001b[0;31mNameError\u001b[0m                                 Traceback (most recent call last)",
      "\u001b[0;32m<ipython-input-21-63ccfa4e90bb>\u001b[0m in \u001b[0;36m<module>\u001b[0;34m()\u001b[0m\n\u001b[0;32m----> 1\u001b[0;31m \u001b[0mdata\u001b[0m \u001b[0;34m=\u001b[0m \u001b[0;34m[\u001b[0m\u001b[0mgo\u001b[0m\u001b[0;34m.\u001b[0m\u001b[0mBar\u001b[0m\u001b[0;34m(\u001b[0m\u001b[0mx\u001b[0m\u001b[0;34m=\u001b[0m\u001b[0;34m[\u001b[0m\u001b[0;34m'Tweets'\u001b[0m\u001b[0;34m,\u001b[0m \u001b[0;34m'Retweets'\u001b[0m\u001b[0;34m,\u001b[0m \u001b[0;34m'Replies'\u001b[0m\u001b[0;34m]\u001b[0m\u001b[0;34m,\u001b[0m\u001b[0my\u001b[0m\u001b[0;34m=\u001b[0m\u001b[0;34m[\u001b[0m\u001b[0mnumTweets\u001b[0m\u001b[0;34m,\u001b[0m\u001b[0mnumReTweets\u001b[0m\u001b[0;34m,\u001b[0m\u001b[0mnumReplies\u001b[0m\u001b[0;34m]\u001b[0m\u001b[0;34m)\u001b[0m\u001b[0;34m]\u001b[0m\u001b[0;34m\u001b[0m\u001b[0m\n\u001b[0m\u001b[1;32m      2\u001b[0m layout = go.Layout(\n\u001b[1;32m      3\u001b[0m     \u001b[0mtitle\u001b[0m\u001b[0;34m=\u001b[0m\u001b[0;34m'Number of Retweets, Replies and Tweets'\u001b[0m\u001b[0;34m,\u001b[0m\u001b[0;34m\u001b[0m\u001b[0m\n\u001b[1;32m      4\u001b[0m     yaxis=dict(\n\u001b[1;32m      5\u001b[0m         \u001b[0mtitle\u001b[0m\u001b[0;34m=\u001b[0m\u001b[0;34m'Usage'\u001b[0m\u001b[0;34m,\u001b[0m\u001b[0;34m\u001b[0m\u001b[0m\n",
      "\u001b[0;31mNameError\u001b[0m: name 'go' is not defined"
     ]
=======
   "execution_count": 23,
   "metadata": {},
   "outputs": [
    {
     "data": {
      "text/html": [
       "<iframe id=\"igraph\" scrolling=\"no\" style=\"border:none;\" seamless=\"seamless\" src=\"https://plot.ly/~ir47/2.embed\" height=\"525px\" width=\"100%\"></iframe>"
      ],
      "text/plain": [
       "<plotly.tools.PlotlyDisplay object>"
      ]
     },
     "execution_count": 23,
     "metadata": {},
     "output_type": "execute_result"
>>>>>>> 9fdd327140819a6497727815faeae348d6c03104
    }
   ],
   "source": [
    "data = [go.Bar(x=['Tweets', 'Retweets', 'Replies'],y=[numTweets,numReTweets,numReplies])]\n",
    "layout = go.Layout(\n",
    "    title='Number of Retweets, Replies and Tweets',\n",
    "    yaxis=dict(\n",
    "        title='Usage',\n",
    "        titlefont=dict(\n",
    "            family='Courier New, monospace',\n",
    "            size=18,\n",
    "            color='#7f7f7f'\n",
    "        )\n",
    "    )\n",
    ")\n",
    "\n",
    "fig = go.Figure(data=data, layout=layout)\n",
    "py.iplot(fig, filename='basic-bar')"
   ]
  },
  {
   "cell_type": "markdown",
   "metadata": {},
   "source": [
    "The above graph shows the total number of unique Tweets that were in the data set. The graph then highlights how many of those tweets are Retweets and how many are replies to other tweets. As can be clearly seen from the graph the majority of the dataset is made up of Retweets with over 59 thousand Retweets being present. The set also includes a number of replies to tweets, however, when the amount of replies is compared to the number of Retweets it shows how many more Retweets there are over replies. This is shown with there only being 1723 replies in the set compared with the over 59 thousand Retweets. \n",
    "\n",
    "One of the main reaons for this mass difference in the number of Retweets to replies is the nature of what each of them actually do. Retweeting a tweet is more designed to share that perticular tweet with your followers as it may be something interesting or something you agree with. Whereas a reply is used for the more conversational aspect of twitter it is there to add a response or to add more information to a tweet and in some cases it can be used as a convorsation tool between people. \n",
    "\n",
    "Another possible reason for Retweets taking up a larger amount of the dataset over replies is that they are mush easier to utilise than replies. When a user goes to Retweet a tweet then they can simply just click Retweet which will then share this tweet with their followers. Whereas with a reply more thought must be put into the process as the actual content of the reply must be thought of and written out. This may be one of the reasons for Retweets being more prominent as simply they are quicker and easier to use. "
   ]
  },
  {
   "cell_type": "code",
<<<<<<< HEAD
   "execution_count": 22,
=======
   "execution_count": 24,
>>>>>>> 9fdd327140819a6497727815faeae348d6c03104
   "metadata": {},
   "outputs": [],
   "source": [
    "dfSource = df\n",
    "import re\n",
    "items = []\n",
    "for index, row in dfSource.iterrows():\n",
    "    text = (row['source'])\n",
    "    for token in str(text):\n",
    "        if token.endswith('>'):\n",
    "            split1 = text.split(\"</a>\")\n",
    "            split2 = str(split1).split(\">\")\n",
    "            split2 = str(split2).split(\",\")\n",
    "            items.append(str(split2[1]))\n",
    "            \n",
    "appCount = {}\n",
    "\n",
    "for device in items:\n",
    "    if device not in appCount:\n",
    "        appCount[device] = 1\n",
    "    else:\n",
    "        counter = appCount.get(device,'none')\n",
    "        appCount.update({device: counter+1})"
   ]
  },
  {
   "cell_type": "code",
<<<<<<< HEAD
   "execution_count": 23,
=======
   "execution_count": 25,
>>>>>>> 9fdd327140819a6497727815faeae348d6c03104
   "metadata": {},
   "outputs": [
    {
     "ename": "NameError",
     "evalue": "name 'operator' is not defined",
     "output_type": "error",
     "traceback": [
      "\u001b[0;31m---------------------------------------------------------------------------\u001b[0m",
      "\u001b[0;31mNameError\u001b[0m                                 Traceback (most recent call last)",
      "\u001b[0;32m<ipython-input-23-77e013326b58>\u001b[0m in \u001b[0;36m<module>\u001b[0;34m()\u001b[0m\n\u001b[0;32m----> 1\u001b[0;31m \u001b[0mtopItems\u001b[0m \u001b[0;34m=\u001b[0m \u001b[0msorted\u001b[0m\u001b[0;34m(\u001b[0m\u001b[0mappCount\u001b[0m\u001b[0;34m.\u001b[0m\u001b[0mitems\u001b[0m\u001b[0;34m(\u001b[0m\u001b[0;34m)\u001b[0m\u001b[0;34m,\u001b[0m \u001b[0mkey\u001b[0m\u001b[0;34m=\u001b[0m\u001b[0moperator\u001b[0m\u001b[0;34m.\u001b[0m\u001b[0mitemgetter\u001b[0m\u001b[0;34m(\u001b[0m\u001b[0;36m1\u001b[0m\u001b[0;34m)\u001b[0m\u001b[0;34m,\u001b[0m\u001b[0mreverse\u001b[0m\u001b[0;34m=\u001b[0m\u001b[0mTrue\u001b[0m\u001b[0;34m)\u001b[0m\u001b[0;34m\u001b[0m\u001b[0m\n\u001b[0m",
      "\u001b[0;31mNameError\u001b[0m: name 'operator' is not defined"
     ]
    }
   ],
   "source": [
    "topItems = sorted(appCount.items(), key=operator.itemgetter(1),reverse=True)"
   ]
  },
  {
   "cell_type": "code",
<<<<<<< HEAD
   "execution_count": null,
=======
   "execution_count": 26,
>>>>>>> 9fdd327140819a6497727815faeae348d6c03104
   "metadata": {},
   "outputs": [],
   "source": [
    "#Gets the top 4 applications\n",
    "topApplication = topItems[0][0]\n",
    "topApplicationNum = topItems[0][1]\n",
    "    \n",
    "secondApplication = topItems[1][0]\n",
    "secondApplicationNum = topItems[1][1]\n",
    "    \n",
    "thirdApplication = topItems[2][0]\n",
    "thirdApplicationNum = topItems[2][1]\n",
    "\n",
    "fourthApplication = topItems[3][0]\n",
    "fourthApplicationNum = topItems[3][1]\n",
    "\n",
    "totalApplications = sum(appCount.values())\n",
    "otherApplicationNum = (totalApplications-(topApplicationNum+secondApplicationNum+thirdApplicationNum+fourthApplicationNum))\n"
   ]
  },
  {
   "cell_type": "code",
<<<<<<< HEAD
   "execution_count": 24,
   "metadata": {},
   "outputs": [
    {
     "ename": "NameError",
     "evalue": "name 'topApplication' is not defined",
     "output_type": "error",
     "traceback": [
      "\u001b[0;31m---------------------------------------------------------------------------\u001b[0m",
      "\u001b[0;31mNameError\u001b[0m                                 Traceback (most recent call last)",
      "\u001b[0;32m<ipython-input-24-55d4ff52f079>\u001b[0m in \u001b[0;36m<module>\u001b[0;34m()\u001b[0m\n\u001b[0;32m----> 1\u001b[0;31m \u001b[0mlabels\u001b[0m \u001b[0;34m=\u001b[0m \u001b[0;34m[\u001b[0m\u001b[0mtopApplication\u001b[0m\u001b[0;34m,\u001b[0m\u001b[0msecondApplication\u001b[0m\u001b[0;34m,\u001b[0m\u001b[0mthirdApplication\u001b[0m\u001b[0;34m,\u001b[0m\u001b[0mfourthApplication\u001b[0m\u001b[0;34m,\u001b[0m\u001b[0;34m\" \\\"Other\\'\"\u001b[0m\u001b[0;34m]\u001b[0m\u001b[0;34m\u001b[0m\u001b[0m\n\u001b[0m\u001b[1;32m      2\u001b[0m \u001b[0mvalues\u001b[0m \u001b[0;34m=\u001b[0m \u001b[0;34m[\u001b[0m\u001b[0mtopApplicationNum\u001b[0m\u001b[0;34m,\u001b[0m\u001b[0msecondApplicationNum\u001b[0m\u001b[0;34m,\u001b[0m\u001b[0mthirdApplicationNum\u001b[0m\u001b[0;34m,\u001b[0m\u001b[0mfourthApplicationNum\u001b[0m\u001b[0;34m,\u001b[0m\u001b[0motherApplicationNum\u001b[0m\u001b[0;34m]\u001b[0m\u001b[0;34m\u001b[0m\u001b[0m\n\u001b[1;32m      3\u001b[0m \u001b[0;34m\u001b[0m\u001b[0m\n\u001b[1;32m      4\u001b[0m \u001b[0mtrace\u001b[0m \u001b[0;34m=\u001b[0m \u001b[0mgo\u001b[0m\u001b[0;34m.\u001b[0m\u001b[0mPie\u001b[0m\u001b[0;34m(\u001b[0m\u001b[0mlabels\u001b[0m\u001b[0;34m=\u001b[0m\u001b[0mlabels\u001b[0m\u001b[0;34m,\u001b[0m \u001b[0mvalues\u001b[0m\u001b[0;34m=\u001b[0m\u001b[0mvalues\u001b[0m\u001b[0;34m)\u001b[0m\u001b[0;34m\u001b[0m\u001b[0m\n\u001b[1;32m      5\u001b[0m \u001b[0;34m\u001b[0m\u001b[0m\n",
      "\u001b[0;31mNameError\u001b[0m: name 'topApplication' is not defined"
     ]
=======
   "execution_count": 29,
   "metadata": {},
   "outputs": [
    {
     "data": {
      "text/html": [
       "<iframe id=\"igraph\" scrolling=\"no\" style=\"border:none;\" seamless=\"seamless\" src=\"https://plot.ly/~ir47/18.embed\" height=\"525px\" width=\"100%\"></iframe>"
      ],
      "text/plain": [
       "<plotly.tools.PlotlyDisplay object>"
      ]
     },
     "execution_count": 29,
     "metadata": {},
     "output_type": "execute_result"
>>>>>>> 9fdd327140819a6497727815faeae348d6c03104
    }
   ],
   "source": [
    "\n",
    "\n",
    "fig = {\n",
    "    'data': [{'labels': [topApplication,secondApplication,thirdApplication,fourthApplication,\" \\\"Other\\'\"],\n",
    "              'values': [topApplicationNum,secondApplicationNum,thirdApplicationNum,fourthApplicationNum,otherApplicationNum],\n",
    "              'type': 'pie'}],\n",
    "    'layout': {'title': 'Application share of tweets'}\n",
    "     }\n",
    "\n",
    "py.iplot(fig)\n"
   ]
  },
  {
   "cell_type": "markdown",
   "metadata": {},
   "source": [
    "The above chart shows the top 4 applicaions which were used to used to send tweets in the dataset. The chart also shows what percentage of other applications were used to send tweets. As can be seen from the chart above the majority of tweets were sent from the \"Twitter Web Client\" as that was used to send 36.1% of tweets used in the set. The next two most popular applications used were mobile applications as \"Twitter for iPhone\" has 17.8% of the tweets and \"Twitter for Android\" having 16.5%. These figures show an interesting point as although the web application had overall more than all of the other applications, if you were to combine the two mobiles applications it would come out at 34.3% just under the 36.1% of the web application. \n",
    "\n",
    "This shows that mobile applcations were infact very close to being the most used application for sending tweets in the set. It could also be agruged that mobile applications could have sent the most tweets as other mobile applications such as \"Tweetbot for iOS\" would be stored in the other section of the chart meaning that all considered it is no longer the case that traditional means such as web applications on computers will be the most used applications when it comes to social media. "
   ]
  },
  {
   "cell_type": "code",
<<<<<<< HEAD
   "execution_count": 25,
=======
   "execution_count": 30,
>>>>>>> 9fdd327140819a6497727815faeae348d6c03104
   "metadata": {},
   "outputs": [
    {
     "data": {
      "text/plain": [
       "77267"
      ]
     },
<<<<<<< HEAD
     "execution_count": 25,
=======
     "execution_count": 30,
>>>>>>> 9fdd327140819a6497727815faeae348d6c03104
     "metadata": {},
     "output_type": "execute_result"
    }
   ],
   "source": [
    "dfSource = df\n",
    "import re\n",
    "dates = []\n",
    "for index, row in dfSource.iterrows():\n",
    "    text = (row['created_at'])\n",
    "    dates.append(text[0:10])        \n",
    "len(dates)\n"
   ]
  },
  {
   "cell_type": "code",
<<<<<<< HEAD
   "execution_count": 26,
=======
   "execution_count": 31,
>>>>>>> 9fdd327140819a6497727815faeae348d6c03104
   "metadata": {},
   "outputs": [],
   "source": [
    "dateCount = {}\n",
    "counter =0\n",
    "\n",
    "for date in dates:\n",
    "    if date not in dateCount:\n",
    "        dateCount[date] = 1\n",
    "    else:\n",
    "        counter = dateCount.get(date,'none')\n",
    "        dateCount.update({date: counter+1})"
   ]
  },
  {
   "cell_type": "code",
   "execution_count": 32,
<<<<<<< HEAD
   "metadata": {},
=======
   "metadata": {
    "scrolled": false
   },
>>>>>>> 9fdd327140819a6497727815faeae348d6c03104
   "outputs": [
    {
     "name": "stdout",
     "output_type": "stream",
     "text": [
      "Date: Fri Dec 05 Number of Tweets: 87\n",
      "Date: Thu Dec 04 Number of Tweets: 200\n",
      "Date: Wed Dec 03 Number of Tweets: 311\n",
      "Date: Tue Dec 02 Number of Tweets: 475\n",
      "Date: Mon Dec 01 Number of Tweets: 603\n",
      "Date: Sun Nov 30 Number of Tweets: 343\n",
      "Date: Sat Nov 29 Number of Tweets: 428\n",
      "Date: Fri Nov 28 Number of Tweets: 711\n",
      "Date: Thu Nov 27 Number of Tweets: 497\n",
      "Date: Wed Nov 26 Number of Tweets: 400\n",
      "Date: Wed Nov 12 Number of Tweets: 73212\n"
     ]
    }
   ],
   "source": [
    "values =[]\n",
    "dateKeys = []\n",
    "\n",
    "for key,val in dateCount.items():\n",
    "        values.append(val)\n",
    "        dateKeys.append(str(key))\n",
    "        print(\"Date: \"+ str(key) + \" Number of Tweets: \" + str(val))\n",
    "    \n"
   ]
  },
  {
   "cell_type": "code",
   "execution_count": 33,
<<<<<<< HEAD
   "metadata": {
    "scrolled": false
   },
   "outputs": [
    {
     "data": {
      "image/png": "iVBORw0KGgoAAAANSUhEUgAAAZ4AAAD8CAYAAABHN8LqAAAABHNCSVQICAgIfAhkiAAAAAlwSFlz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\nYII=\n",
      "text/plain": [
       "<matplotlib.figure.Figure at 0x7f93871c8850>"
      ]
     },
     "metadata": {},
     "output_type": "display_data"
    }
   ],
   "source": [
    "dates = mdates.datestr2num(dateKeys)\n",
    "\n",
    "plt.plot_date(x=dates, y=values)\n",
    "plt.show()"
=======
   "metadata": {},
   "outputs": [
    {
     "data": {
      "text/html": [
       "<iframe id=\"igraph\" scrolling=\"no\" style=\"border:none;\" seamless=\"seamless\" src=\"https://plot.ly/~ir47/2.embed\" height=\"525px\" width=\"100%\"></iframe>"
      ],
      "text/plain": [
       "<plotly.tools.PlotlyDisplay object>"
      ]
     },
     "execution_count": 33,
     "metadata": {},
     "output_type": "execute_result"
    }
   ],
   "source": [
    "data = [go.Bar(x=dateKeys,y=values)]\n",
    "layout = go.Layout(\n",
    "    title='Number of Tweets per day',\n",
    "    yaxis=dict(\n",
    "        title='Tweets',\n",
    "        titlefont=dict(\n",
    "            family='Courier New, monospace',\n",
    "            size=18,\n",
    "            color='#7f7f7f'\n",
    "        )\n",
    "    )\n",
    ")\n",
    "\n",
    "fig = go.Figure(data=data, layout=layout)\n",
    "py.iplot(fig, filename='basic-bar')"
   ]
  },
  {
   "cell_type": "markdown",
   "metadata": {},
   "source": [
    "The above graph shows the number of tweets which were sent on each day in the dataset. As can be seen from the graph the dataset contained a majority of tweets sent on 12th November, with 73 thousand tweets in the set being sent on that day. This would be some what expected as on that day was the lander reached its comet destination. As this was a day which had been greatly anticipated for nearly a decade it would be expected for the dataset to reflect this with the number of tweets. \n",
    "\n",
    "The graph also shows us that on 1st December there was a slight increase in the number of tweets over previous days about the Comet landing. One of the resons for this could be that on that day some of the first images from the comet were released which may have then caused people to begining tweeting about the pictures. However this increase is only a fraction to the amount of tweets which were sent on the actual comet landing."
>>>>>>> 9fdd327140819a6497727815faeae348d6c03104
   ]
  },
  {
   "cell_type": "code",
   "execution_count": null,
   "metadata": {},
   "outputs": [],
   "source": []
  }
 ],
 "metadata": {
  "kernelspec": {
   "display_name": "Python 3",
   "language": "python",
   "name": "python3"
  },
  "language_info": {
   "codemirror_mode": {
    "name": "ipython",
    "version": 3
   },
   "file_extension": ".py",
   "mimetype": "text/x-python",
   "name": "python",
   "nbconvert_exporter": "python",
   "pygments_lexer": "ipython3",
   "version": "3.6.4"
  }
 },
 "nbformat": 4,
 "nbformat_minor": 1
}
