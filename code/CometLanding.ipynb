<<<<<<< HEAD
{
 "cells": [
  {
   "cell_type": "markdown",
   "metadata": {},
   "source": [
    "# Data Manipulation in Python (CS2006 P2)"
   ]
  },
  {
   "cell_type": "markdown",
   "metadata": {},
   "source": [
    "On the 12th of November 2014, the European Space Agency lander Philae made the first ever soft landing of a spacecraft on the surface of a comet, 67P/Churyumov-Gerasimenko, having been carried there by the probe Rosetta. The news of the acheivement was disseminated through various social media platforms over the following days and weeks, including Twitter. This notebook analyses data independently gathered from Twitter to track the volume and nature of user activity related to the landing over the period of 3 weeks after the landing."
   ]
  },
  {
   "cell_type": "code",
   "execution_count": 2,
   "metadata": {},
   "outputs": [
    {
     "ename": "ImportError",
     "evalue": "No module named wordcloud",
     "output_type": "error",
     "traceback": [
      "\u001b[0;31m---------------------------------------------------------------------------\u001b[0m",
      "\u001b[0;31mImportError\u001b[0m                               Traceback (most recent call last)",
      "\u001b[0;32m<ipython-input-2-bb339a972436>\u001b[0m in \u001b[0;36m<module>\u001b[0;34m()\u001b[0m\n\u001b[1;32m      4\u001b[0m \u001b[0;32mimport\u001b[0m \u001b[0mnumpy\u001b[0m \u001b[0;32mas\u001b[0m \u001b[0mnp\u001b[0m\u001b[0;34m\u001b[0m\u001b[0m\n\u001b[1;32m      5\u001b[0m \u001b[0;32mimport\u001b[0m \u001b[0mmatplotlib\u001b[0m\u001b[0;34m.\u001b[0m\u001b[0mdates\u001b[0m \u001b[0;32mas\u001b[0m \u001b[0mmdates\u001b[0m\u001b[0;34m;\u001b[0m\u001b[0;34m\u001b[0m\u001b[0m\n\u001b[0;32m----> 6\u001b[0;31m \u001b[0;32mfrom\u001b[0m \u001b[0mwordcloud\u001b[0m \u001b[0;32mimport\u001b[0m \u001b[0mWordCloud\u001b[0m\u001b[0;34m,\u001b[0m \u001b[0mSTOPWORDS\u001b[0m\u001b[0;34m\u001b[0m\u001b[0m\n\u001b[0m\u001b[1;32m      7\u001b[0m \u001b[0;32mimport\u001b[0m \u001b[0mplotly\u001b[0m\u001b[0;34m\u001b[0m\u001b[0m\n\u001b[1;32m      8\u001b[0m \u001b[0;32mimport\u001b[0m \u001b[0mplotly\u001b[0m\u001b[0;34m.\u001b[0m\u001b[0mplotly\u001b[0m \u001b[0;32mas\u001b[0m \u001b[0mpy\u001b[0m\u001b[0;34m\u001b[0m\u001b[0m\n",
      "\u001b[0;31mImportError\u001b[0m: No module named wordcloud"
     ]
    }
   ],
   "source": [
    "#Imports\n",
    "import pandas as pd\n",
    "import matplotlib.pyplot as plt;\n",
    "import math\n",
    "import numpy as np\n",
<<<<<<< HEAD
    "import matplotlib.dates as mdates;\n",
    "from wordcloud import WordCloud, STOPWORDS\n",
=======
    "\n",
    "from plotly import *\n",
    "from plotly.offline import download_plotlyjs, init_notebook_mode, plot, iplot\n",
    "\n",
>>>>>>> 9fdd327140819a6497727815faeae348d6c03104
    "import plotly\n",
    "import plotly.plotly as py\n",
    "import plotly.graph_objs as go\n",
    "import operator\n",
    "from collections import *\n"
   ]
  },
  {
   "cell_type": "code",
   "execution_count": 3,
   "metadata": {},
   "outputs": [
    {
     "ename": "ImportError",
     "evalue": "attempted relative import with no known parent package",
     "output_type": "error",
     "traceback": [
      "\u001b[0;31m---------------------------------------------------------------------------\u001b[0m",
      "\u001b[0;31mImportError\u001b[0m                               Traceback (most recent call last)",
      "\u001b[0;32m<ipython-input-2-09aeca815748>\u001b[0m in \u001b[0;36m<module>\u001b[0;34m()\u001b[0m\n\u001b[0;32m----> 1\u001b[0;31m \u001b[0;32mfrom\u001b[0m \u001b[0mwordcloud\u001b[0m \u001b[0;32mimport\u001b[0m \u001b[0mWordCloud\u001b[0m\u001b[0;34m,\u001b[0m \u001b[0mSTOPWORDS\u001b[0m\u001b[0;34m\u001b[0m\u001b[0m\n\u001b[0m",
      "\u001b[0;32m/Volumes/ir47/IdeaProjects/Second Year/CS2006/Python2/code/wordcloud.py\u001b[0m in \u001b[0;36m<module>\u001b[0;34m()\u001b[0m\n\u001b[1;32m     22\u001b[0m \u001b[0;32mfrom\u001b[0m \u001b[0mPIL\u001b[0m \u001b[0;32mimport\u001b[0m \u001b[0mImageFont\u001b[0m\u001b[0;34m\u001b[0m\u001b[0m\n\u001b[1;32m     23\u001b[0m \u001b[0;34m\u001b[0m\u001b[0m\n\u001b[0;32m---> 24\u001b[0;31m \u001b[0;32mfrom\u001b[0m \u001b[0;34m.\u001b[0m\u001b[0mquery_integral_image\u001b[0m \u001b[0;32mimport\u001b[0m \u001b[0mquery_integral_image\u001b[0m\u001b[0;34m\u001b[0m\u001b[0m\n\u001b[0m\u001b[1;32m     25\u001b[0m \u001b[0;32mfrom\u001b[0m \u001b[0;34m.\u001b[0m\u001b[0mtokenization\u001b[0m \u001b[0;32mimport\u001b[0m \u001b[0munigrams_and_bigrams\u001b[0m\u001b[0;34m,\u001b[0m \u001b[0mprocess_tokens\u001b[0m\u001b[0;34m\u001b[0m\u001b[0m\n\u001b[1;32m     26\u001b[0m \u001b[0;34m\u001b[0m\u001b[0m\n",
      "\u001b[0;31mImportError\u001b[0m: attempted relative import with no known parent package"
     ]
    }
   ],
   "source": [
    "from wordcloud import WordCloud, STOPWORDS"
   ]
  },
  {
   "cell_type": "code",
   "execution_count": 3,
   "metadata": {},
   "outputs": [],
   "source": [
    "df=pd.read_csv(\"../data/CometLanding.csv\",encoding=\"UTF-8\")"
   ]
  },
  {
   "cell_type": "code",
   "execution_count": 4,
   "metadata": {},
   "outputs": [
    {
     "data": {
      "text/plain": [
       "77319"
      ]
     },
     "execution_count": 4,
     "metadata": {},
     "output_type": "execute_result"
    }
   ],
   "source": [
    "len(df)"
   ]
  },
  {
   "cell_type": "code",
   "execution_count": 5,
   "metadata": {},
   "outputs": [],
   "source": [
    "df.drop_duplicates(['id_str'],inplace = True)"
   ]
  },
  {
   "cell_type": "code",
   "execution_count": 6,
   "metadata": {},
   "outputs": [],
   "source": [
    "numTweets = len(df)"
   ]
  },
  {
   "cell_type": "markdown",
   "metadata": {},
   "source": [
    "The raw data contained some duplicate tweets, which were removed, and the number of total remaining unique tweets is displayed below: "
   ]
  },
  {
   "cell_type": "code",
   "execution_count": 7,
   "metadata": {},
   "outputs": [
    {
     "name": "stdout",
     "output_type": "stream",
     "text": [
      "Total number of Tweets: 77268\n"
     ]
    }
   ],
   "source": [
    "print(\"Total number of Tweets: \" + str(numTweets))"
   ]
  },
  {
   "cell_type": "code",
   "execution_count": 8,
   "metadata": {},
   "outputs": [],
   "source": [
    "df = df[df['text'].notnull()]"
   ]
  },
  {
   "cell_type": "markdown",
   "metadata": {},
   "source": [
    "The number of unique users is displayed below:"
   ]
  },
  {
   "cell_type": "code",
<<<<<<< HEAD
   "execution_count": 9,
=======
   "execution_count": 10,
>>>>>>> 9fdd327140819a6497727815faeae348d6c03104
   "metadata": {},
   "outputs": [
    {
     "data": {
      "text/plain": [
       "50195"
      ]
     },
<<<<<<< HEAD
     "execution_count": 9,
=======
     "execution_count": 10,
>>>>>>> 9fdd327140819a6497727815faeae348d6c03104
     "metadata": {},
     "output_type": "execute_result"
    }
   ],
   "source": [
    "len(df['from_user'].unique())"
   ]
  },
  {
   "cell_type": "markdown",
   "metadata": {},
   "source": [
    "The number of tweets by language are displayed here. By far the most common is US English, with 52316 tweets."
   ]
  },
  {
   "cell_type": "code",
<<<<<<< HEAD
   "execution_count": 10,
=======
   "execution_count": 13,
>>>>>>> 9fdd327140819a6497727815faeae348d6c03104
   "metadata": {},
   "outputs": [],
   "source": [
    "language = df.groupby('user_lang')"
   ]
  },
  {
   "cell_type": "code",
<<<<<<< HEAD
   "execution_count": 11,
=======
   "execution_count": 14,
>>>>>>> 9fdd327140819a6497727815faeae348d6c03104
   "metadata": {},
   "outputs": [
    {
     "data": {
      "text/plain": [
       "user_lang\n",
       "ar           428\n",
       "bg             1\n",
       "ca           309\n",
       "cs            42\n",
       "da            89\n",
       "de          2916\n",
       "el            29\n",
       "en         52316\n",
       "en-AU          1\n",
       "en-GB         23\n",
       "en-gb       1972\n",
       "es          7540\n",
       "es-MX          2\n",
       "eu            62\n",
       "fa             2\n",
       "fi           108\n",
       "fil           10\n",
       "fr          3313\n",
       "gl            36\n",
       "he             2\n",
       "hi             2\n",
       "hu            41\n",
       "id            66\n",
       "it          2664\n",
       "ja          1514\n",
       "ko            98\n",
       "msa            1\n",
       "nb             1\n",
       "nl           838\n",
       "no            36\n",
       "pl           157\n",
       "pt           508\n",
       "pt-PT          1\n",
       "ro             8\n",
       "ru           794\n",
       "sv           126\n",
       "th            57\n",
       "tr           761\n",
       "uk            43\n",
       "ur             1\n",
       "vi             1\n",
       "xx-lc         24\n",
       "zh-CN          6\n",
       "zh-Hans        6\n",
       "zh-cn        285\n",
       "zh-tw         27\n",
       "dtype: int64"
      ]
     },
<<<<<<< HEAD
     "execution_count": 11,
=======
     "execution_count": 14,
>>>>>>> 9fdd327140819a6497727815faeae348d6c03104
     "metadata": {},
     "output_type": "execute_result"
    }
   ],
   "source": [
    "language.size()"
   ]
  },
  {
   "cell_type": "markdown",
   "metadata": {},
   "source": [
    "The majority of tweets were actually retweets, which meant that they started with the letters \"RT\":"
   ]
  },
  {
   "cell_type": "code",
<<<<<<< HEAD
   "execution_count": 12,
=======
   "execution_count": 15,
>>>>>>> 9fdd327140819a6497727815faeae348d6c03104
   "metadata": {},
   "outputs": [],
   "source": [
    "dfNoRT = df[~df.text.str.startswith('RT', na=False)]"
   ]
  },
  {
   "cell_type": "code",
<<<<<<< HEAD
   "execution_count": 13,
=======
   "execution_count": 16,
>>>>>>> 9fdd327140819a6497727815faeae348d6c03104
   "metadata": {},
   "outputs": [],
   "source": [
    "numReTweets = numTweets - len(dfNoRT) "
   ]
  },
  {
   "cell_type": "code",
<<<<<<< HEAD
   "execution_count": 14,
=======
   "execution_count": 17,
>>>>>>> 9fdd327140819a6497727815faeae348d6c03104
   "metadata": {},
   "outputs": [
    {
     "name": "stdout",
     "output_type": "stream",
     "text": [
      "Total number of retweets: 59999\n"
     ]
    }
   ],
   "source": [
    "print(\"Total number of retweets: \" + str(numReTweets))"
   ]
  },
  {
   "cell_type": "markdown",
<<<<<<< HEAD
   "metadata": {},
   "source": [
    "Roughly 1/2 of the remainder are replies to earlier tweets."
   ]
  },
  {
   "cell_type": "code",
   "execution_count": 15,
=======
>>>>>>> 9fdd327140819a6497727815faeae348d6c03104
   "metadata": {},
   "source": [
    "Roughly 1/2 of the remainder are replies to earlier tweets."
   ]
  },
  {
   "cell_type": "code",
<<<<<<< HEAD
   "execution_count": 16,
=======
   "execution_count": 18,
>>>>>>> 9fdd327140819a6497727815faeae348d6c03104
   "metadata": {},
   "outputs": [
    {
     "name": "stdout",
     "output_type": "stream",
     "text": [
      "1723\n"
     ]
    }
   ],
   "source": [
    "dfReplies = df\n",
    "numReplies = 0\n",
    "\n",
    "\n",
    "for index, row in dfReplies.iterrows():\n",
    "        text = (row['in_reply_to_screen_name'])\n",
    "        if(not pd.isnull(text)):\n",
    "            numReplies +=1\n",
    "\n",
    "            \n",
    "print(numReplies)"
   ]
  },
  {
   "cell_type": "code",
<<<<<<< HEAD
   "execution_count": 17,
=======
   "execution_count": 19,
>>>>>>> 9fdd327140819a6497727815faeae348d6c03104
   "metadata": {},
   "outputs": [
    {
     "name": "stdout",
     "output_type": "stream",
     "text": [
      "Total number of replies: 1723\n"
     ]
    }
   ],
   "source": [
    "print(\"Total number of replies: \" + str(numReplies))"
   ]
  },
  {
   "cell_type": "markdown",
   "metadata": {},
   "source": [
    "Hashtags are an important "
   ]
  },
  {
   "cell_type": "code",
<<<<<<< HEAD
   "execution_count": 18,
=======
   "execution_count": 20,
>>>>>>> 9fdd327140819a6497727815faeae348d6c03104
   "metadata": {},
   "outputs": [],
   "source": [
    "import re\n",
    "hashtags = []\n",
    "for index, row in dfNoRT.iterrows():\n",
    "    text = (row['text'].split(\" \"))       \n",
    "    for token in text:\n",
    "        re.sub('[\\W_]', '', token)\n",
    "        if token.startswith('#'):\n",
    "            hashtags.append(str(token))\n",
    "\n"
   ]
  },
  {
   "cell_type": "code",
<<<<<<< HEAD
   "execution_count": 19,
=======
   "execution_count": 21,
>>>>>>> 9fdd327140819a6497727815faeae348d6c03104
   "metadata": {
    "scrolled": false
   },
   "outputs": [
    {
     "name": "stdout",
     "output_type": "stream",
     "text": [
<<<<<<< HEAD
      "'#67P'=>400\n",
      "'#CometLanding:'=>161\n",
      "'#Rosetta'=>1471\n",
      "'#Cometlanding'=>165\n",
      "'#CometLanding.'=>244\n",
      "'#Philae'=>734\n",
      "'#rosetta'=>178\n",
      "'#ESA'=>194\n",
      "'#cometlanding'=>1834\n",
      "'#CometLanding'=>12741\n",
      "'#rosettamission'=>169\n",
      "'#HappyBirthdaySandaraPark'=>928\n",
      "'#WishKoSaPasko'=>929\n"
=======
      "'#cometlanding'=>1834\n",
      "'#CometLanding'=>12741\n",
      "'#ESA'=>194\n",
      "'#Rosetta'=>1471\n",
      "'#Philae'=>734\n",
      "'#CometLanding:'=>161\n",
      "'#rosettamission'=>169\n",
      "'#Cometlanding'=>165\n",
      "'#67P'=>400\n",
      "'#CometLanding.'=>244\n",
      "'#rosetta'=>178\n",
      "'#WishKoSaPasko'=>929\n",
      "'#HappyBirthdaySandaraPark'=>928\n"
>>>>>>> 9fdd327140819a6497727815faeae348d6c03104
     ]
    }
   ],
   "source": [
    "hashtagCount = {}\n",
    "\n",
    "for hashtag in hashtags:\n",
    "    if hashtag not in hashtagCount:\n",
    "        hashtagCount[hashtag] = 1\n",
    "    else:\n",
    "        counter = hashtagCount.get(hashtag,'none')\n",
    "        hashtagCount.update({hashtag: counter+1})\n",
    "        \n",
    "for key,val in hashtagCount.items():\n",
    "    if val>150:\n",
    "        print (repr(key) + \"=>\" + repr(val))\n",
    "    \n"
   ]
  },
  {
   "cell_type": "code",
<<<<<<< HEAD
   "execution_count": 20,
=======
   "execution_count": 22,
>>>>>>> 9fdd327140819a6497727815faeae348d6c03104
   "metadata": {
    "scrolled": true
   },
   "outputs": [
    {
     "ename": "NameError",
     "evalue": "name 'STOPWORDS' is not defined",
     "output_type": "error",
     "traceback": [
      "\u001b[0;31m---------------------------------------------------------------------------\u001b[0m",
      "\u001b[0;31mNameError\u001b[0m                                 Traceback (most recent call last)",
<<<<<<< HEAD
      "\u001b[0;32m<ipython-input-20-e67421848b4c>\u001b[0m in \u001b[0;36m<module>\u001b[0;34m()\u001b[0m\n\u001b[1;32m      5\u001b[0m \u001b[0;34m\u001b[0m\u001b[0m\n\u001b[1;32m      6\u001b[0m \u001b[0mwords\u001b[0m \u001b[0;34m=\u001b[0m \u001b[0;34m[\u001b[0m\u001b[0me\u001b[0m\u001b[0;34m[\u001b[0m\u001b[0;36m1\u001b[0m\u001b[0;34m:\u001b[0m\u001b[0;34m]\u001b[0m \u001b[0;32mfor\u001b[0m \u001b[0me\u001b[0m \u001b[0;32min\u001b[0m \u001b[0mwords\u001b[0m\u001b[0;34m]\u001b[0m\u001b[0;34m\u001b[0m\u001b[0m\n\u001b[0;32m----> 7\u001b[0;31m \u001b[0mstopwords\u001b[0m \u001b[0;34m=\u001b[0m \u001b[0mset\u001b[0m\u001b[0;34m(\u001b[0m\u001b[0mSTOPWORDS\u001b[0m\u001b[0;34m)\u001b[0m\u001b[0;34m\u001b[0m\u001b[0m\n\u001b[0m\u001b[1;32m      8\u001b[0m \u001b[0mstopwords\u001b[0m\u001b[0;34m.\u001b[0m\u001b[0madd\u001b[0m\u001b[0;34m(\u001b[0m\u001b[0;34m\"CometLanding\"\u001b[0m\u001b[0;34m)\u001b[0m\u001b[0;34m\u001b[0m\u001b[0m\n\u001b[1;32m      9\u001b[0m \u001b[0;34m\u001b[0m\u001b[0m\n",
=======
      "\u001b[0;32m<ipython-input-22-e67421848b4c>\u001b[0m in \u001b[0;36m<module>\u001b[0;34m()\u001b[0m\n\u001b[1;32m      5\u001b[0m \u001b[0;34m\u001b[0m\u001b[0m\n\u001b[1;32m      6\u001b[0m \u001b[0mwords\u001b[0m \u001b[0;34m=\u001b[0m \u001b[0;34m[\u001b[0m\u001b[0me\u001b[0m\u001b[0;34m[\u001b[0m\u001b[0;36m1\u001b[0m\u001b[0;34m:\u001b[0m\u001b[0;34m]\u001b[0m \u001b[0;32mfor\u001b[0m \u001b[0me\u001b[0m \u001b[0;32min\u001b[0m \u001b[0mwords\u001b[0m\u001b[0;34m]\u001b[0m\u001b[0;34m\u001b[0m\u001b[0m\n\u001b[0;32m----> 7\u001b[0;31m \u001b[0mstopwords\u001b[0m \u001b[0;34m=\u001b[0m \u001b[0mset\u001b[0m\u001b[0;34m(\u001b[0m\u001b[0mSTOPWORDS\u001b[0m\u001b[0;34m)\u001b[0m\u001b[0;34m\u001b[0m\u001b[0m\n\u001b[0m\u001b[1;32m      8\u001b[0m \u001b[0mstopwords\u001b[0m\u001b[0;34m.\u001b[0m\u001b[0madd\u001b[0m\u001b[0;34m(\u001b[0m\u001b[0;34m\"CometLanding\"\u001b[0m\u001b[0;34m)\u001b[0m\u001b[0;34m\u001b[0m\u001b[0m\n\u001b[1;32m      9\u001b[0m \u001b[0;34m\u001b[0m\u001b[0m\n",
>>>>>>> 9fdd327140819a6497727815faeae348d6c03104
      "\u001b[0;31mNameError\u001b[0m: name 'STOPWORDS' is not defined"
     ]
    }
   ],
   "source": [
    "words = []\n",
    "\n",
    "for key,val in hashtagCount.items():\n",
    "    words.append(key)\n",
    "    \n",
    "words = [e[1:] for e in words]\n",
    "stopwords = set(STOPWORDS)\n",
    "stopwords.add(\"CometLanding\")\n",
    "\n",
    "\n",
    "wordcloud = WordCloud(background_color='white',stopwords=stopwords,max_words=30000,max_font_size=40, random_state=42).generate(str(hashtags))\n",
    "plt.figure(figsize=(10,10))\n",
    "plt.imshow(wordcloud)\n",
    "plt.axis('off')\n",
    "plt.show()"
   ]
  },
  {
   "cell_type": "code",
<<<<<<< HEAD
   "execution_count": 21,
   "metadata": {},
   "outputs": [
    {
     "ename": "NameError",
     "evalue": "name 'go' is not defined",
     "output_type": "error",
     "traceback": [
      "\u001b[0;31m---------------------------------------------------------------------------\u001b[0m",
      "\u001b[0;31mNameError\u001b[0m                                 Traceback (most recent call last)",
      "\u001b[0;32m<ipython-input-21-63ccfa4e90bb>\u001b[0m in \u001b[0;36m<module>\u001b[0;34m()\u001b[0m\n\u001b[0;32m----> 1\u001b[0;31m \u001b[0mdata\u001b[0m \u001b[0;34m=\u001b[0m \u001b[0;34m[\u001b[0m\u001b[0mgo\u001b[0m\u001b[0;34m.\u001b[0m\u001b[0mBar\u001b[0m\u001b[0;34m(\u001b[0m\u001b[0mx\u001b[0m\u001b[0;34m=\u001b[0m\u001b[0;34m[\u001b[0m\u001b[0;34m'Tweets'\u001b[0m\u001b[0;34m,\u001b[0m \u001b[0;34m'Retweets'\u001b[0m\u001b[0;34m,\u001b[0m \u001b[0;34m'Replies'\u001b[0m\u001b[0;34m]\u001b[0m\u001b[0;34m,\u001b[0m\u001b[0my\u001b[0m\u001b[0;34m=\u001b[0m\u001b[0;34m[\u001b[0m\u001b[0mnumTweets\u001b[0m\u001b[0;34m,\u001b[0m\u001b[0mnumReTweets\u001b[0m\u001b[0;34m,\u001b[0m\u001b[0mnumReplies\u001b[0m\u001b[0;34m]\u001b[0m\u001b[0;34m)\u001b[0m\u001b[0;34m]\u001b[0m\u001b[0;34m\u001b[0m\u001b[0m\n\u001b[0m\u001b[1;32m      2\u001b[0m layout = go.Layout(\n\u001b[1;32m      3\u001b[0m     \u001b[0mtitle\u001b[0m\u001b[0;34m=\u001b[0m\u001b[0;34m'Number of Retweets, Replies and Tweets'\u001b[0m\u001b[0;34m,\u001b[0m\u001b[0;34m\u001b[0m\u001b[0m\n\u001b[1;32m      4\u001b[0m     yaxis=dict(\n\u001b[1;32m      5\u001b[0m         \u001b[0mtitle\u001b[0m\u001b[0;34m=\u001b[0m\u001b[0;34m'Usage'\u001b[0m\u001b[0;34m,\u001b[0m\u001b[0;34m\u001b[0m\u001b[0m\n",
      "\u001b[0;31mNameError\u001b[0m: name 'go' is not defined"
     ]
=======
   "execution_count": 23,
   "metadata": {},
   "outputs": [
    {
     "data": {
      "text/html": [
       "<iframe id=\"igraph\" scrolling=\"no\" style=\"border:none;\" seamless=\"seamless\" src=\"https://plot.ly/~ir47/2.embed\" height=\"525px\" width=\"100%\"></iframe>"
      ],
      "text/plain": [
       "<plotly.tools.PlotlyDisplay object>"
      ]
     },
     "execution_count": 23,
     "metadata": {},
     "output_type": "execute_result"
>>>>>>> 9fdd327140819a6497727815faeae348d6c03104
    }
   ],
   "source": [
    "data = [go.Bar(x=['Tweets', 'Retweets', 'Replies'],y=[numTweets,numReTweets,numReplies])]\n",
    "layout = go.Layout(\n",
    "    title='Number of Retweets, Replies and Tweets',\n",
    "    yaxis=dict(\n",
    "        title='Usage',\n",
    "        titlefont=dict(\n",
    "            family='Courier New, monospace',\n",
    "            size=18,\n",
    "            color='#7f7f7f'\n",
    "        )\n",
    "    )\n",
    ")\n",
    "\n",
    "fig = go.Figure(data=data, layout=layout)\n",
    "py.iplot(fig, filename='basic-bar')"
   ]
  },
  {
   "cell_type": "markdown",
   "metadata": {},
   "source": [
    "The above graph shows the total number of unique Tweets that were in the data set. The graph then highlights how many of those tweets are Retweets and how many are replies to other tweets. As can be clearly seen from the graph the majority of the dataset is made up of Retweets with over 59 thousand Retweets being present. The set also includes a number of replies to tweets, however, when the amount of replies is compared to the number of Retweets it shows how many more Retweets there are over replies. This is shown with there only being 1723 replies in the set compared with the over 59 thousand Retweets. \n",
    "\n",
    "One of the main reaons for this mass difference in the number of Retweets to replies is the nature of what each of them actually do. Retweeting a tweet is more designed to share that perticular tweet with your followers as it may be something interesting or something you agree with. Whereas a reply is used for the more conversational aspect of twitter it is there to add a response or to add more information to a tweet and in some cases it can be used as a convorsation tool between people. \n",
    "\n",
    "Another possible reason for Retweets taking up a larger amount of the dataset over replies is that they are mush easier to utilise than replies. When a user goes to Retweet a tweet then they can simply just click Retweet which will then share this tweet with their followers. Whereas with a reply more thought must be put into the process as the actual content of the reply must be thought of and written out. This may be one of the reasons for Retweets being more prominent as simply they are quicker and easier to use. "
   ]
  },
  {
   "cell_type": "code",
<<<<<<< HEAD
   "execution_count": 22,
=======
   "execution_count": 24,
>>>>>>> 9fdd327140819a6497727815faeae348d6c03104
   "metadata": {},
   "outputs": [],
   "source": [
    "dfSource = df\n",
    "import re\n",
    "items = []\n",
    "for index, row in dfSource.iterrows():\n",
    "    text = (row['source'])\n",
    "    for token in str(text):\n",
    "        if token.endswith('>'):\n",
    "            split1 = text.split(\"</a>\")\n",
    "            split2 = str(split1).split(\">\")\n",
    "            split2 = str(split2).split(\",\")\n",
    "            items.append(str(split2[1]))\n",
    "            \n",
    "appCount = {}\n",
    "\n",
    "for device in items:\n",
    "    if device not in appCount:\n",
    "        appCount[device] = 1\n",
    "    else:\n",
    "        counter = appCount.get(device,'none')\n",
    "        appCount.update({device: counter+1})"
   ]
  },
  {
   "cell_type": "code",
<<<<<<< HEAD
   "execution_count": 23,
=======
   "execution_count": 25,
>>>>>>> 9fdd327140819a6497727815faeae348d6c03104
   "metadata": {},
   "outputs": [
    {
     "ename": "NameError",
     "evalue": "name 'operator' is not defined",
     "output_type": "error",
     "traceback": [
      "\u001b[0;31m---------------------------------------------------------------------------\u001b[0m",
      "\u001b[0;31mNameError\u001b[0m                                 Traceback (most recent call last)",
      "\u001b[0;32m<ipython-input-23-77e013326b58>\u001b[0m in \u001b[0;36m<module>\u001b[0;34m()\u001b[0m\n\u001b[0;32m----> 1\u001b[0;31m \u001b[0mtopItems\u001b[0m \u001b[0;34m=\u001b[0m \u001b[0msorted\u001b[0m\u001b[0;34m(\u001b[0m\u001b[0mappCount\u001b[0m\u001b[0;34m.\u001b[0m\u001b[0mitems\u001b[0m\u001b[0;34m(\u001b[0m\u001b[0;34m)\u001b[0m\u001b[0;34m,\u001b[0m \u001b[0mkey\u001b[0m\u001b[0;34m=\u001b[0m\u001b[0moperator\u001b[0m\u001b[0;34m.\u001b[0m\u001b[0mitemgetter\u001b[0m\u001b[0;34m(\u001b[0m\u001b[0;36m1\u001b[0m\u001b[0;34m)\u001b[0m\u001b[0;34m,\u001b[0m\u001b[0mreverse\u001b[0m\u001b[0;34m=\u001b[0m\u001b[0mTrue\u001b[0m\u001b[0;34m)\u001b[0m\u001b[0;34m\u001b[0m\u001b[0m\n\u001b[0m",
      "\u001b[0;31mNameError\u001b[0m: name 'operator' is not defined"
     ]
    }
   ],
   "source": [
    "topItems = sorted(appCount.items(), key=operator.itemgetter(1),reverse=True)"
   ]
  },
  {
   "cell_type": "code",
<<<<<<< HEAD
   "execution_count": null,
=======
   "execution_count": 26,
>>>>>>> 9fdd327140819a6497727815faeae348d6c03104
   "metadata": {},
   "outputs": [],
   "source": [
    "#Gets the top 4 applications\n",
    "topApplication = topItems[0][0]\n",
    "topApplicationNum = topItems[0][1]\n",
    "    \n",
    "secondApplication = topItems[1][0]\n",
    "secondApplicationNum = topItems[1][1]\n",
    "    \n",
    "thirdApplication = topItems[2][0]\n",
    "thirdApplicationNum = topItems[2][1]\n",
    "\n",
    "fourthApplication = topItems[3][0]\n",
    "fourthApplicationNum = topItems[3][1]\n",
    "\n",
    "totalApplications = sum(appCount.values())\n",
    "otherApplicationNum = (totalApplications-(topApplicationNum+secondApplicationNum+thirdApplicationNum+fourthApplicationNum))\n"
   ]
  },
  {
   "cell_type": "code",
<<<<<<< HEAD
   "execution_count": 24,
   "metadata": {},
   "outputs": [
    {
     "ename": "NameError",
     "evalue": "name 'topApplication' is not defined",
     "output_type": "error",
     "traceback": [
      "\u001b[0;31m---------------------------------------------------------------------------\u001b[0m",
      "\u001b[0;31mNameError\u001b[0m                                 Traceback (most recent call last)",
      "\u001b[0;32m<ipython-input-24-55d4ff52f079>\u001b[0m in \u001b[0;36m<module>\u001b[0;34m()\u001b[0m\n\u001b[0;32m----> 1\u001b[0;31m \u001b[0mlabels\u001b[0m \u001b[0;34m=\u001b[0m \u001b[0;34m[\u001b[0m\u001b[0mtopApplication\u001b[0m\u001b[0;34m,\u001b[0m\u001b[0msecondApplication\u001b[0m\u001b[0;34m,\u001b[0m\u001b[0mthirdApplication\u001b[0m\u001b[0;34m,\u001b[0m\u001b[0mfourthApplication\u001b[0m\u001b[0;34m,\u001b[0m\u001b[0;34m\" \\\"Other\\'\"\u001b[0m\u001b[0;34m]\u001b[0m\u001b[0;34m\u001b[0m\u001b[0m\n\u001b[0m\u001b[1;32m      2\u001b[0m \u001b[0mvalues\u001b[0m \u001b[0;34m=\u001b[0m \u001b[0;34m[\u001b[0m\u001b[0mtopApplicationNum\u001b[0m\u001b[0;34m,\u001b[0m\u001b[0msecondApplicationNum\u001b[0m\u001b[0;34m,\u001b[0m\u001b[0mthirdApplicationNum\u001b[0m\u001b[0;34m,\u001b[0m\u001b[0mfourthApplicationNum\u001b[0m\u001b[0;34m,\u001b[0m\u001b[0motherApplicationNum\u001b[0m\u001b[0;34m]\u001b[0m\u001b[0;34m\u001b[0m\u001b[0m\n\u001b[1;32m      3\u001b[0m \u001b[0;34m\u001b[0m\u001b[0m\n\u001b[1;32m      4\u001b[0m \u001b[0mtrace\u001b[0m \u001b[0;34m=\u001b[0m \u001b[0mgo\u001b[0m\u001b[0;34m.\u001b[0m\u001b[0mPie\u001b[0m\u001b[0;34m(\u001b[0m\u001b[0mlabels\u001b[0m\u001b[0;34m=\u001b[0m\u001b[0mlabels\u001b[0m\u001b[0;34m,\u001b[0m \u001b[0mvalues\u001b[0m\u001b[0;34m=\u001b[0m\u001b[0mvalues\u001b[0m\u001b[0;34m)\u001b[0m\u001b[0;34m\u001b[0m\u001b[0m\n\u001b[1;32m      5\u001b[0m \u001b[0;34m\u001b[0m\u001b[0m\n",
      "\u001b[0;31mNameError\u001b[0m: name 'topApplication' is not defined"
     ]
=======
   "execution_count": 29,
   "metadata": {},
   "outputs": [
    {
     "data": {
      "text/html": [
       "<iframe id=\"igraph\" scrolling=\"no\" style=\"border:none;\" seamless=\"seamless\" src=\"https://plot.ly/~ir47/18.embed\" height=\"525px\" width=\"100%\"></iframe>"
      ],
      "text/plain": [
       "<plotly.tools.PlotlyDisplay object>"
      ]
     },
     "execution_count": 29,
     "metadata": {},
     "output_type": "execute_result"
>>>>>>> 9fdd327140819a6497727815faeae348d6c03104
    }
   ],
   "source": [
    "\n",
    "\n",
    "fig = {\n",
    "    'data': [{'labels': [topApplication,secondApplication,thirdApplication,fourthApplication,\" \\\"Other\\'\"],\n",
    "              'values': [topApplicationNum,secondApplicationNum,thirdApplicationNum,fourthApplicationNum,otherApplicationNum],\n",
    "              'type': 'pie'}],\n",
    "    'layout': {'title': 'Application share of tweets'}\n",
    "     }\n",
    "\n",
    "py.iplot(fig)\n"
   ]
  },
  {
   "cell_type": "markdown",
   "metadata": {},
   "source": [
    "The above chart shows the top 4 applicaions which were used to used to send tweets in the dataset. The chart also shows what percentage of other applications were used to send tweets. As can be seen from the chart above the majority of tweets were sent from the \"Twitter Web Client\" as that was used to send 36.1% of tweets used in the set. The next two most popular applications used were mobile applications as \"Twitter for iPhone\" has 17.8% of the tweets and \"Twitter for Android\" having 16.5%. These figures show an interesting point as although the web application had overall more than all of the other applications, if you were to combine the two mobiles applications it would come out at 34.3% just under the 36.1% of the web application. \n",
    "\n",
    "This shows that mobile applcations were infact very close to being the most used application for sending tweets in the set. It could also be agruged that mobile applications could have sent the most tweets as other mobile applications such as \"Tweetbot for iOS\" would be stored in the other section of the chart meaning that all considered it is no longer the case that traditional means such as web applications on computers will be the most used applications when it comes to social media. "
   ]
  },
  {
   "cell_type": "code",
<<<<<<< HEAD
   "execution_count": 25,
=======
   "execution_count": 30,
>>>>>>> 9fdd327140819a6497727815faeae348d6c03104
   "metadata": {},
   "outputs": [
    {
     "data": {
      "text/plain": [
       "77267"
      ]
     },
<<<<<<< HEAD
     "execution_count": 25,
=======
     "execution_count": 30,
>>>>>>> 9fdd327140819a6497727815faeae348d6c03104
     "metadata": {},
     "output_type": "execute_result"
    }
   ],
   "source": [
    "dfSource = df\n",
    "import re\n",
    "dates = []\n",
    "for index, row in dfSource.iterrows():\n",
    "    text = (row['created_at'])\n",
    "    dates.append(text[0:10])        \n",
    "len(dates)\n"
   ]
  },
  {
   "cell_type": "code",
<<<<<<< HEAD
   "execution_count": 26,
=======
   "execution_count": 31,
>>>>>>> 9fdd327140819a6497727815faeae348d6c03104
   "metadata": {},
   "outputs": [],
   "source": [
    "dateCount = {}\n",
    "counter =0\n",
    "\n",
    "for date in dates:\n",
    "    if date not in dateCount:\n",
    "        dateCount[date] = 1\n",
    "    else:\n",
    "        counter = dateCount.get(date,'none')\n",
    "        dateCount.update({date: counter+1})"
   ]
  },
  {
   "cell_type": "code",
   "execution_count": 32,
<<<<<<< HEAD
   "metadata": {},
=======
   "metadata": {
    "scrolled": false
   },
>>>>>>> 9fdd327140819a6497727815faeae348d6c03104
   "outputs": [
    {
     "name": "stdout",
     "output_type": "stream",
     "text": [
      "Date: Fri Dec 05 Number of Tweets: 87\n",
      "Date: Thu Dec 04 Number of Tweets: 200\n",
      "Date: Wed Dec 03 Number of Tweets: 311\n",
      "Date: Tue Dec 02 Number of Tweets: 475\n",
      "Date: Mon Dec 01 Number of Tweets: 603\n",
      "Date: Sun Nov 30 Number of Tweets: 343\n",
      "Date: Sat Nov 29 Number of Tweets: 428\n",
      "Date: Fri Nov 28 Number of Tweets: 711\n",
      "Date: Thu Nov 27 Number of Tweets: 497\n",
      "Date: Wed Nov 26 Number of Tweets: 400\n",
      "Date: Wed Nov 12 Number of Tweets: 73212\n"
     ]
    }
   ],
   "source": [
    "values =[]\n",
    "dateKeys = []\n",
    "\n",
    "for key,val in dateCount.items():\n",
    "        values.append(val)\n",
    "        dateKeys.append(str(key))\n",
    "        print(\"Date: \"+ str(key) + \" Number of Tweets: \" + str(val))\n",
    "    \n"
   ]
  },
  {
   "cell_type": "code",
   "execution_count": 33,
<<<<<<< HEAD
   "metadata": {
    "scrolled": false
   },
   "outputs": [
    {
     "data": {
      "image/png": "iVBORw0KGgoAAAANSUhEUgAAAZ4AAAD8CAYAAABHN8LqAAAABHNCSVQICAgIfAhkiAAAAAlwSFlz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\nYII=\n",
      "text/plain": [
       "<matplotlib.figure.Figure at 0x7f93871c8850>"
      ]
     },
     "metadata": {},
     "output_type": "display_data"
    }
   ],
   "source": [
    "dates = mdates.datestr2num(dateKeys)\n",
    "\n",
    "plt.plot_date(x=dates, y=values)\n",
    "plt.show()"
=======
   "metadata": {},
   "outputs": [
    {
     "data": {
      "text/html": [
       "<iframe id=\"igraph\" scrolling=\"no\" style=\"border:none;\" seamless=\"seamless\" src=\"https://plot.ly/~ir47/2.embed\" height=\"525px\" width=\"100%\"></iframe>"
      ],
      "text/plain": [
       "<plotly.tools.PlotlyDisplay object>"
      ]
     },
     "execution_count": 33,
     "metadata": {},
     "output_type": "execute_result"
    }
   ],
   "source": [
    "data = [go.Bar(x=dateKeys,y=values)]\n",
    "layout = go.Layout(\n",
    "    title='Number of Tweets per day',\n",
    "    yaxis=dict(\n",
    "        title='Tweets',\n",
    "        titlefont=dict(\n",
    "            family='Courier New, monospace',\n",
    "            size=18,\n",
    "            color='#7f7f7f'\n",
    "        )\n",
    "    )\n",
    ")\n",
    "\n",
    "fig = go.Figure(data=data, layout=layout)\n",
    "py.iplot(fig, filename='basic-bar')"
   ]
  },
  {
   "cell_type": "markdown",
   "metadata": {},
   "source": [
    "The above graph shows the number of tweets which were sent on each day in the dataset. As can be seen from the graph the dataset contained a majority of tweets sent on 12th November, with 73 thousand tweets in the set being sent on that day. This would be some what expected as on that day was the lander reached its comet destination. As this was a day which had been greatly anticipated for nearly a decade it would be expected for the dataset to reflect this with the number of tweets. \n",
    "\n",
    "The graph also shows us that on 1st December there was a slight increase in the number of tweets over previous days about the Comet landing. One of the resons for this could be that on that day some of the first images from the comet were released which may have then caused people to begining tweeting about the pictures. However this increase is only a fraction to the amount of tweets which were sent on the actual comet landing."
>>>>>>> 9fdd327140819a6497727815faeae348d6c03104
   ]
  },
  {
   "cell_type": "code",
   "execution_count": null,
   "metadata": {},
   "outputs": [],
   "source": []
  }
 ],
 "metadata": {
  "kernelspec": {
   "display_name": "Python 3",
   "language": "python",
   "name": "python3"
  },
  "language_info": {
   "codemirror_mode": {
    "name": "ipython",
    "version": 3
   },
   "file_extension": ".py",
   "mimetype": "text/x-python",
   "name": "python",
   "nbconvert_exporter": "python",
   "pygments_lexer": "ipython3",
   "version": "3.6.4"
  }
 },
 "nbformat": 4,
 "nbformat_minor": 1
}
=======






<!DOCTYPE html>
<html lang="en">
  <head>
    <meta charset="utf-8">
  <link rel="dns-prefetch" href="https://assets-cdn.github.com">
  <link rel="dns-prefetch" href="https://avatars0.githubusercontent.com">
  <link rel="dns-prefetch" href="https://avatars1.githubusercontent.com">
  <link rel="dns-prefetch" href="https://avatars2.githubusercontent.com">
  <link rel="dns-prefetch" href="https://avatars3.githubusercontent.com">
  <link rel="dns-prefetch" href="https://github-cloud.s3.amazonaws.com">
  <link rel="dns-prefetch" href="https://user-images.githubusercontent.com/">



  <link crossorigin="anonymous" media="all" integrity="sha512-eYhUAIv4O/68uoHkCtYXVTxc5Q92+NKMtOryYR5Svt7vDp34XkrggN5j4lrKyiB0B2HUyrAYvAb3tlhmFGhivg==" rel="stylesheet" href="https://assets-cdn.github.com/assets/frameworks-592c4aa40e940d1b0607a3cf272916ff.css" />
  <link crossorigin="anonymous" media="all" integrity="sha512-tAb2Jg5owcau6P+YFTlebsFvybAeFaii7FoIIuYEtgu+esY8+SX6Xhyw3fXb+f9QB6wwivUzgoXXwO8ZteApKA==" rel="stylesheet" href="https://assets-cdn.github.com/assets/github-fdbbae74da4136fd4258a92eb943be60.css" />
  
  
  
  

  <meta name="viewport" content="width=device-width">
  
  <title>Python2/CometLanding.ipynb at 9fdd327140819a6497727815faeae348d6c03104 · ryanmasad/Python2</title>
    <meta name="description" content="GitHub is where people build software. More than 27 million people use GitHub to discover, fork, and contribute to over 80 million projects.">
  <link rel="search" type="application/opensearchdescription+xml" href="/opensearch.xml" title="GitHub">
  <link rel="fluid-icon" href="https://github.com/fluidicon.png" title="GitHub">
  <meta property="fb:app_id" content="1401488693436528">

    
    <meta property="og:image" content="https://avatars1.githubusercontent.com/u/38000628?s=400&amp;v=4" /><meta property="og:site_name" content="GitHub" /><meta property="og:type" content="object" /><meta property="og:title" content="ryanmasad/Python2" /><meta property="og:url" content="https://github.com/ryanmasad/Python2" /><meta property="og:description" content="Python2 - CS2006 P2" />

  <link rel="assets" href="https://assets-cdn.github.com/">
  <link rel="web-socket" href="wss://live.github.com/_sockets/VjI6MjU5MzIyOTczOjUxNWM5OWY4NzU5ZDI5Zjk1Y2Q5MWRjOTRmMWM2MWE2NTgwN2Y1NDcxMTU0YzZkNjljNGQxMDhjMWQwNTQzYjU=--a1b95c636f9ce3a66bb4b0db5f2c5d5a28c2dca7">
  <meta name="pjax-timeout" content="1000">
  <link rel="sudo-modal" href="/sessions/sudo_modal">
  <meta name="request-id" content="CE1C:2F51:460C653:7D918A9:5ADDC4CE" data-pjax-transient>


  

  <meta name="selected-link" value="repo_source" data-pjax-transient>

    <meta name="google-site-verification" content="KT5gs8h0wvaagLKAVWq8bbeNwnZZK1r1XQysX3xurLU">
  <meta name="google-site-verification" content="ZzhVyEFwb7w3e0-uOTltm8Jsck2F5StVihD0exw2fsA">
  <meta name="google-site-verification" content="GXs5KoUUkNCoaAZn7wPN-t01Pywp9M3sEjnt_3_ZWPc">
    <meta name="google-analytics" content="UA-3769691-2">

<meta name="octolytics-host" content="collector.githubapp.com" /><meta name="octolytics-app-id" content="github" /><meta name="octolytics-event-url" content="https://collector.githubapp.com/github-external/browser_event" /><meta name="octolytics-dimension-request_id" content="CE1C:2F51:460C653:7D918A9:5ADDC4CE" /><meta name="octolytics-dimension-region_edge" content="iad" /><meta name="octolytics-dimension-region_render" content="iad" /><meta name="octolytics-actor-id" content="37581784" /><meta name="octolytics-actor-login" content="ianRoss12" /><meta name="octolytics-actor-hash" content="05dd9d2ebad5a61177f75df64cd86ba78bf058e0b25d60da346c2c4f8eacd266" />
<meta name="analytics-location" content="/&lt;user-name&gt;/&lt;repo-name&gt;/blob/show" data-pjax-transient="true" />




  <meta class="js-ga-set" name="dimension1" content="Logged In">


  

      <meta name="hostname" content="github.com">
    <meta name="user-login" content="ianRoss12">

      <meta name="expected-hostname" content="github.com">
    <meta name="js-proxy-site-detection-payload" content="ZGE5N2ZhZThjYTEwOGRhZDUxZGUwM2IxMTRhN2M2MTU3YmE0NjNlMzM0YWZlOWE1YmU1Yzg0ZWNiNGM5YzFhMnx7InJlbW90ZV9hZGRyZXNzIjoiMTM4LjI1MS4yMDcuNDUiLCJyZXF1ZXN0X2lkIjoiQ0UxQzoyRjUxOjQ2MEM2NTM6N0Q5MThBOTo1QUREQzRDRSIsInRpbWVzdGFtcCI6MTUyNDQ4MzI4MiwiaG9zdCI6ImdpdGh1Yi5jb20ifQ==">

    <meta name="enabled-features" content="UNIVERSE_BANNER,FREE_TRIALS,MARKETPLACE_INSIGHTS,MARKETPLACE_SELF_SERVE,MARKETPLACE_INSIGHTS_CONVERSION_PERCENTAGES">

  <meta name="html-safe-nonce" content="ab2790046109296f1353a3e6c38a31d3e0177409">

  <meta http-equiv="x-pjax-version" content="d5888a338278275cab3caaf364731e4a">
  

      <link href="https://github.com/ryanmasad/Python2/commits/9fdd327140819a6497727815faeae348d6c03104.atom" rel="alternate" title="Recent Commits to Python2:9fdd327140819a6497727815faeae348d6c03104" type="application/atom+xml">

  <meta name="description" content="Python2 - CS2006 P2">
  <meta name="go-import" content="github.com/ryanmasad/Python2 git https://github.com/ryanmasad/Python2.git">

  <meta name="octolytics-dimension-user_id" content="38000628" /><meta name="octolytics-dimension-user_login" content="ryanmasad" /><meta name="octolytics-dimension-repository_id" content="127750948" /><meta name="octolytics-dimension-repository_nwo" content="ryanmasad/Python2" /><meta name="octolytics-dimension-repository_public" content="true" /><meta name="octolytics-dimension-repository_is_fork" content="false" /><meta name="octolytics-dimension-repository_network_root_id" content="127750948" /><meta name="octolytics-dimension-repository_network_root_nwo" content="ryanmasad/Python2" /><meta name="octolytics-dimension-repository_explore_github_marketplace_ci_cta_shown" content="false" />


    <link rel="canonical" href="https://github.com/ryanmasad/Python2/blob/9fdd327140819a6497727815faeae348d6c03104/code/CometLanding.ipynb" data-pjax-transient>


  <meta name="browser-stats-url" content="https://api.github.com/_private/browser/stats">

  <meta name="browser-errors-url" content="https://api.github.com/_private/browser/errors">

  <link rel="mask-icon" href="https://assets-cdn.github.com/pinned-octocat.svg" color="#000000">
  <link rel="icon" type="image/x-icon" class="js-site-favicon" href="https://assets-cdn.github.com/favicon.ico">

<meta name="theme-color" content="#1e2327">


  <meta name="u2f-support" content="true">

<link rel="manifest" href="/manifest.json" crossOrigin="use-credentials">

  </head>

  <body class="logged-in env-production emoji-size-boost page-blob">
    

  <div class="position-relative js-header-wrapper ">
    <a href="#start-of-content" tabindex="1" class="p-3 bg-blue text-white show-on-focus js-skip-to-content">Skip to content</a>
    <div id="js-pjax-loader-bar" class="pjax-loader-bar"><div class="progress"></div></div>

    
    
    



        
<header class="Header  f5" role="banner">
  <div class="d-flex flex-justify-between px-3 container-lg">
    <div class="d-flex flex-justify-between ">
      <div class="">
        <a class="header-logo-invertocat" href="https://github.com/" data-hotkey="g d" aria-label="Homepage" data-ga-click="Header, go to dashboard, icon:logo">
  <svg height="32" class="octicon octicon-mark-github" viewBox="0 0 16 16" version="1.1" width="32" aria-hidden="true"><path fill-rule="evenodd" d="M8 0C3.58 0 0 3.58 0 8c0 3.54 2.29 6.53 5.47 7.59.4.07.55-.17.55-.38 0-.19-.01-.82-.01-1.49-2.01.37-2.53-.49-2.69-.94-.09-.23-.48-.94-.82-1.13-.28-.15-.68-.52-.01-.53.63-.01 1.08.58 1.23.82.72 1.21 1.87.87 2.33.66.07-.52.28-.87.51-1.07-1.78-.2-3.64-.89-3.64-3.95 0-.87.31-1.59.82-2.15-.08-.2-.36-1.02.08-2.12 0 0 .67-.21 2.2.82.64-.18 1.32-.27 2-.27.68 0 1.36.09 2 .27 1.53-1.04 2.2-.82 2.2-.82.44 1.1.16 1.92.08 2.12.51.56.82 1.27.82 2.15 0 3.07-1.87 3.75-3.65 3.95.29.25.54.73.54 1.48 0 1.07-.01 1.93-.01 2.2 0 .21.15.46.55.38A8.013 8.013 0 0 0 16 8c0-4.42-3.58-8-8-8z"/></svg>
</a>

      </div>

    </div>

    <div class="HeaderMenu d-flex flex-justify-between flex-auto">
      <div class="d-flex">
            <div class="">
              <div class="header-search scoped-search site-scoped-search js-site-search" role="search">
  <!-- '"` --><!-- </textarea></xmp> --></option></form><form class="js-site-search-form" data-scoped-search-url="/ryanmasad/Python2/search" data-unscoped-search-url="/search" action="/ryanmasad/Python2/search" accept-charset="UTF-8" method="get"><input name="utf8" type="hidden" value="&#x2713;" />
    <label class="form-control header-search-wrapper  js-chromeless-input-container">
          <a class="header-search-scope no-underline" href="/ryanmasad/Python2/blob/9fdd327140819a6497727815faeae348d6c03104/code/CometLanding.ipynb">This repository</a>
      <input type="text"
        class="form-control header-search-input  js-site-search-focus js-site-search-field is-clearable"
        data-hotkey="s,/"
        name="q"
        value=""
        placeholder="Search"
        aria-label="Search this repository"
        data-unscoped-placeholder="Search GitHub"
        data-scoped-placeholder="Search"
        autocapitalize="off"
        >
        <input type="hidden" class="js-site-search-type-field" name="type" >
    </label>
</form></div>

            </div>

          <ul class="d-flex pl-2 flex-items-center text-bold list-style-none" role="navigation">
            <li>
              <a class="js-selected-navigation-item HeaderNavlink px-2" data-hotkey="g p" data-ga-click="Header, click, Nav menu - item:pulls context:user" aria-label="Pull requests you created" data-selected-links="/pulls /pulls/assigned /pulls/mentioned /pulls" href="/pulls">
                Pull requests
</a>            </li>
            <li>
              <a class="js-selected-navigation-item HeaderNavlink px-2" data-hotkey="g i" data-ga-click="Header, click, Nav menu - item:issues context:user" aria-label="Issues you created" data-selected-links="/issues /issues/assigned /issues/mentioned /issues" href="/issues">
                Issues
</a>            </li>
                <li>
                  <a class="js-selected-navigation-item HeaderNavlink px-2" data-ga-click="Header, click, Nav menu - item:marketplace context:user" data-selected-links=" /marketplace" href="/marketplace">
                    Marketplace
</a>                </li>
            <li>
              <a class="js-selected-navigation-item HeaderNavlink px-2" data-ga-click="Header, click, Nav menu - item:explore" data-selected-links="/explore /trending /trending/developers /integrations /integrations/feature/code /integrations/feature/collaborate /integrations/feature/ship showcases showcases_search showcases_landing /explore" href="/explore">
                Explore
</a>            </li>
          </ul>
      </div>

      <div class="d-flex">
        
<ul class="user-nav d-flex flex-items-center list-style-none" id="user-links">
  <li class="dropdown js-menu-container">
    <span class="d-inline-block  px-2">
      
    <a aria-label="You have no unread notifications" class="notification-indicator tooltipped tooltipped-s  js-socket-channel js-notification-indicator" data-hotkey="g n" data-ga-click="Header, go to notifications, icon:read" data-channel="notification-changed:37581784" href="/notifications">
        <span class="mail-status "></span>
        <svg class="octicon octicon-bell" viewBox="0 0 14 16" version="1.1" width="14" height="16" aria-hidden="true"><path fill-rule="evenodd" d="M14 12v1H0v-1l.73-.58c.77-.77.81-2.55 1.19-4.42C2.69 3.23 6 2 6 2c0-.55.45-1 1-1s1 .45 1 1c0 0 3.39 1.23 4.16 5 .38 1.88.42 3.66 1.19 4.42l.66.58H14zm-7 4c1.11 0 2-.89 2-2H5c0 1.11.89 2 2 2z"/></svg>
</a>
    </span>
  </li>

  <li class="dropdown js-menu-container">
    <details class="dropdown-details details-reset js-dropdown-details d-flex px-2 flex-items-center">
      <summary class="HeaderNavlink"
         aria-label="Create new…"
         data-ga-click="Header, create new, icon:add">
        <svg class="octicon octicon-plus float-left mr-1 mt-1" viewBox="0 0 12 16" version="1.1" width="12" height="16" aria-hidden="true"><path fill-rule="evenodd" d="M12 9H7v5H5V9H0V7h5V2h2v5h5z"/></svg>
        <span class="dropdown-caret mt-1"></span>
      </summary>

      <ul class="dropdown-menu dropdown-menu-sw">
        
<a class="dropdown-item" href="/new" data-ga-click="Header, create new repository">
  New repository
</a>

  <a class="dropdown-item" href="/new/import" data-ga-click="Header, import a repository">
    Import repository
  </a>

<a class="dropdown-item" href="https://gist.github.com/" data-ga-click="Header, create new gist">
  New gist
</a>

  <a class="dropdown-item" href="/organizations/new" data-ga-click="Header, create new organization">
    New organization
  </a>



  <div class="dropdown-divider"></div>
  <div class="dropdown-header">
    <span title="ryanmasad/Python2">This repository</span>
  </div>
    <a class="dropdown-item" href="/ryanmasad/Python2/issues/new" data-ga-click="Header, create new issue">
      New issue
    </a>

      </ul>
    </details>
  </li>

  <li class="dropdown js-menu-container">

    <details class="dropdown-details details-reset js-dropdown-details d-flex pl-2 flex-items-center">
      <summary class="HeaderNavlink name mt-1"
        aria-label="View profile and more"
        data-ga-click="Header, show menu, icon:avatar">
        <img alt="@ianRoss12" class="avatar float-left mr-1" src="https://avatars0.githubusercontent.com/u/37581784?s=40&amp;v=4" height="20" width="20">
        <span class="dropdown-caret"></span>
      </summary>

      <ul class="dropdown-menu dropdown-menu-sw">
        <li class="dropdown-header header-nav-current-user css-truncate">
          Signed in as <strong class="css-truncate-target">ianRoss12</strong>
        </li>

        <li class="dropdown-divider"></li>

        <li><a class="dropdown-item" href="/ianRoss12" data-ga-click="Header, go to profile, text:your profile">
          Your profile
        </a></li>
        <li><a class="dropdown-item" href="/ianRoss12?tab=stars" data-ga-click="Header, go to starred repos, text:your stars">
          Your stars
        </a></li>
          <li><a class="dropdown-item" href="https://gist.github.com/" data-ga-click="Header, your gists, text:your gists">Your gists</a></li>

        <li class="dropdown-divider"></li>

        <li><a class="dropdown-item" href="https://help.github.com" data-ga-click="Header, go to help, text:help">
          Help
        </a></li>

        <li><a class="dropdown-item" href="/settings/profile" data-ga-click="Header, go to settings, icon:settings">
          Settings
        </a></li>

        <li><!-- '"` --><!-- </textarea></xmp> --></option></form><form class="logout-form" action="/logout" accept-charset="UTF-8" method="post"><input name="utf8" type="hidden" value="&#x2713;" /><input type="hidden" name="authenticity_token" value="al5mSXX0qoGNkTFYZFrCcfww7ECxRU7nP6fu7VHft9dQYSXDdDfiEvuyODpUv/Dt7qXgknQdMq/qi839443nIw==" />
          <button type="submit" class="dropdown-item dropdown-signout" data-ga-click="Header, sign out, icon:logout">
            Sign out
          </button>
        </form></li>
      </ul>
    </details>
  </li>
</ul>



        <!-- '"` --><!-- </textarea></xmp> --></option></form><form class="sr-only right-0" action="/logout" accept-charset="UTF-8" method="post"><input name="utf8" type="hidden" value="&#x2713;" /><input type="hidden" name="authenticity_token" value="BERe6p6vSAktcBYskFu96chIQBZIjfRPtqcGHYaYEoo+ex1gn2wAmltTH06gvo912t1MxI3ViAdjiyUNNMpCfg==" />
          <button type="submit" class="dropdown-item dropdown-signout" data-ga-click="Header, sign out, icon:logout">
            Sign out
          </button>
</form>      </div>
    </div>
  </div>
</header>

      

  </div>

  <div id="start-of-content" class="show-on-focus"></div>

    <div id="js-flash-container">
</div>



  <div role="main" class="application-main ">
        <div itemscope itemtype="http://schema.org/SoftwareSourceCode" class="">
    <div id="js-repo-pjax-container" data-pjax-container >
      







  <div class="pagehead repohead instapaper_ignore readability-menu experiment-repo-nav  ">
    <div class="repohead-details-container clearfix container">

      <ul class="pagehead-actions">
  <li>
        <!-- '"` --><!-- </textarea></xmp> --></option></form><form data-autosubmit="true" data-remote="true" class="js-social-container" action="/notifications/subscribe" accept-charset="UTF-8" method="post"><input name="utf8" type="hidden" value="&#x2713;" /><input type="hidden" name="authenticity_token" value="Nr7w/RMMNyZNvHUM9I0rkaL8LkIrBB2uY5Vkzim6THDGBj86l26MBhae2xnbKwT0CKs2AtRyd68SgYU/I3F31g==" />      <input type="hidden" name="repository_id" id="repository_id" value="127750948" class="form-control" />

        <div class="select-menu js-menu-container js-select-menu">
          <a href="/ryanmasad/Python2/subscription"
            class="btn btn-sm btn-with-count select-menu-button js-menu-target"
            role="button"
            aria-haspopup="true"
            aria-expanded="false"
            aria-label="Toggle repository notifications menu"
            data-ga-click="Repository, click Watch settings, action:blob#show">
            <span class="js-select-button">
                <svg class="octicon octicon-eye" viewBox="0 0 16 16" version="1.1" width="16" height="16" aria-hidden="true"><path fill-rule="evenodd" d="M8.06 2C3 2 0 8 0 8s3 6 8.06 6C13 14 16 8 16 8s-3-6-7.94-6zM8 12c-2.2 0-4-1.78-4-4 0-2.2 1.8-4 4-4 2.22 0 4 1.8 4 4 0 2.22-1.78 4-4 4zm2-4c0 1.11-.89 2-2 2-1.11 0-2-.89-2-2 0-1.11.89-2 2-2 1.11 0 2 .89 2 2z"/></svg>
                Watch
            </span>
          </a>
          <a class="social-count js-social-count"
            href="/ryanmasad/Python2/watchers"
            aria-label="0 users are watching this repository">
            0
          </a>

        <div class="select-menu-modal-holder">
          <div class="select-menu-modal subscription-menu-modal js-menu-content">
            <div class="select-menu-header js-navigation-enable" tabindex="-1">
              <svg class="octicon octicon-x js-menu-close" role="img" aria-label="Close" viewBox="0 0 12 16" version="1.1" width="12" height="16"><path fill-rule="evenodd" d="M7.48 8l3.75 3.75-1.48 1.48L6 9.48l-3.75 3.75-1.48-1.48L4.52 8 .77 4.25l1.48-1.48L6 6.52l3.75-3.75 1.48 1.48z"/></svg>
              <span class="select-menu-title">Notifications</span>
            </div>

              <div class="select-menu-list js-navigation-container" role="menu">

                <div class="select-menu-item js-navigation-item selected" role="menuitem" tabindex="0">
                  <svg class="octicon octicon-check select-menu-item-icon" viewBox="0 0 12 16" version="1.1" width="12" height="16" aria-hidden="true"><path fill-rule="evenodd" d="M12 5l-8 8-4-4 1.5-1.5L4 10l6.5-6.5z"/></svg>
                  <div class="select-menu-item-text">
                    <input type="radio" name="do" id="do_included" value="included" checked="checked" />
                    <span class="select-menu-item-heading">Not watching</span>
                    <span class="description">Be notified when participating or @mentioned.</span>
                    <span class="js-select-button-text hidden-select-button-text">
                      <svg class="octicon octicon-eye" viewBox="0 0 16 16" version="1.1" width="16" height="16" aria-hidden="true"><path fill-rule="evenodd" d="M8.06 2C3 2 0 8 0 8s3 6 8.06 6C13 14 16 8 16 8s-3-6-7.94-6zM8 12c-2.2 0-4-1.78-4-4 0-2.2 1.8-4 4-4 2.22 0 4 1.8 4 4 0 2.22-1.78 4-4 4zm2-4c0 1.11-.89 2-2 2-1.11 0-2-.89-2-2 0-1.11.89-2 2-2 1.11 0 2 .89 2 2z"/></svg>
                      Watch
                    </span>
                  </div>
                </div>

                <div class="select-menu-item js-navigation-item " role="menuitem" tabindex="0">
                  <svg class="octicon octicon-check select-menu-item-icon" viewBox="0 0 12 16" version="1.1" width="12" height="16" aria-hidden="true"><path fill-rule="evenodd" d="M12 5l-8 8-4-4 1.5-1.5L4 10l6.5-6.5z"/></svg>
                  <div class="select-menu-item-text">
                    <input type="radio" name="do" id="do_subscribed" value="subscribed" />
                    <span class="select-menu-item-heading">Watching</span>
                    <span class="description">Be notified of all conversations.</span>
                    <span class="js-select-button-text hidden-select-button-text">
                      <svg class="octicon octicon-eye" viewBox="0 0 16 16" version="1.1" width="16" height="16" aria-hidden="true"><path fill-rule="evenodd" d="M8.06 2C3 2 0 8 0 8s3 6 8.06 6C13 14 16 8 16 8s-3-6-7.94-6zM8 12c-2.2 0-4-1.78-4-4 0-2.2 1.8-4 4-4 2.22 0 4 1.8 4 4 0 2.22-1.78 4-4 4zm2-4c0 1.11-.89 2-2 2-1.11 0-2-.89-2-2 0-1.11.89-2 2-2 1.11 0 2 .89 2 2z"/></svg>
                        Unwatch
                    </span>
                  </div>
                </div>

                <div class="select-menu-item js-navigation-item " role="menuitem" tabindex="0">
                  <svg class="octicon octicon-check select-menu-item-icon" viewBox="0 0 12 16" version="1.1" width="12" height="16" aria-hidden="true"><path fill-rule="evenodd" d="M12 5l-8 8-4-4 1.5-1.5L4 10l6.5-6.5z"/></svg>
                  <div class="select-menu-item-text">
                    <input type="radio" name="do" id="do_ignore" value="ignore" />
                    <span class="select-menu-item-heading">Ignoring</span>
                    <span class="description">Never be notified.</span>
                    <span class="js-select-button-text hidden-select-button-text">
                      <svg class="octicon octicon-mute" viewBox="0 0 16 16" version="1.1" width="16" height="16" aria-hidden="true"><path fill-rule="evenodd" d="M8 2.81v10.38c0 .67-.81 1-1.28.53L3 10H1c-.55 0-1-.45-1-1V7c0-.55.45-1 1-1h2l3.72-3.72C7.19 1.81 8 2.14 8 2.81zm7.53 3.22l-1.06-1.06-1.97 1.97-1.97-1.97-1.06 1.06L11.44 8 9.47 9.97l1.06 1.06 1.97-1.97 1.97 1.97 1.06-1.06L13.56 8l1.97-1.97z"/></svg>
                        Stop ignoring
                    </span>
                  </div>
                </div>

              </div>

            </div>
          </div>
        </div>
</form>
  </li>

  <li>
    
  <div class="js-toggler-container js-social-container starring-container ">
    <!-- '"` --><!-- </textarea></xmp> --></option></form><form class="starred js-social-form" action="/ryanmasad/Python2/unstar" accept-charset="UTF-8" method="post"><input name="utf8" type="hidden" value="&#x2713;" /><input type="hidden" name="authenticity_token" value="jkQzy3R3r4XOcIrmQqoWLmnfY1zy00+jXK2rm2N+vSRG2CLygRqrcPbh/or+HPvUi4qL0afRE3jC+PTUkNyZlQ==" />
      <input type="hidden" name="context" value="repository"></input>
      <button
        type="submit"
        class="btn btn-sm btn-with-count js-toggler-target"
        aria-label="Unstar this repository" title="Unstar ryanmasad/Python2"
        data-ga-click="Repository, click unstar button, action:blob#show; text:Unstar">
        <svg class="octicon octicon-star" viewBox="0 0 14 16" version="1.1" width="14" height="16" aria-hidden="true"><path fill-rule="evenodd" d="M14 6l-4.9-.64L7 1 4.9 5.36 0 6l3.6 3.26L2.67 14 7 11.67 11.33 14l-.93-4.74z"/></svg>
        Unstar
      </button>
        <a class="social-count js-social-count" href="/ryanmasad/Python2/stargazers"
           aria-label="0 users starred this repository">
          0
        </a>
</form>
    <!-- '"` --><!-- </textarea></xmp> --></option></form><form class="unstarred js-social-form" action="/ryanmasad/Python2/star" accept-charset="UTF-8" method="post"><input name="utf8" type="hidden" value="&#x2713;" /><input type="hidden" name="authenticity_token" value="0vo5L1OJiD55F026BhRo3s1lP9afoQ7sUW95eULrOWC2ELDSb34M8btZ8I0nnq+Wukg9upnGt13kk+BypupTUQ==" />
      <input type="hidden" name="context" value="repository"></input>
      <button
        type="submit"
        class="btn btn-sm btn-with-count js-toggler-target"
        aria-label="Star this repository" title="Star ryanmasad/Python2"
        data-ga-click="Repository, click star button, action:blob#show; text:Star">
        <svg class="octicon octicon-star" viewBox="0 0 14 16" version="1.1" width="14" height="16" aria-hidden="true"><path fill-rule="evenodd" d="M14 6l-4.9-.64L7 1 4.9 5.36 0 6l3.6 3.26L2.67 14 7 11.67 11.33 14l-.93-4.74z"/></svg>
        Star
      </button>
        <a class="social-count js-social-count" href="/ryanmasad/Python2/stargazers"
           aria-label="0 users starred this repository">
          0
        </a>
</form>  </div>

  </li>

  <li>
          <!-- '"` --><!-- </textarea></xmp> --></option></form><form class="btn-with-count" action="/ryanmasad/Python2/fork" accept-charset="UTF-8" method="post"><input name="utf8" type="hidden" value="&#x2713;" /><input type="hidden" name="authenticity_token" value="EIaQq9Bo4bTg/jpbSqeW4JrTmRr3ofQ8K4jnF1Mm7rEVy+BMFhC07boSmaKubx40WExrrFsT4uRQRI3OF1xL3A==" />
            <button
                type="submit"
                class="btn btn-sm btn-with-count"
                data-ga-click="Repository, show fork modal, action:blob#show; text:Fork"
                title="Fork your own copy of ryanmasad/Python2 to your account"
                aria-label="Fork your own copy of ryanmasad/Python2 to your account">
              <svg class="octicon octicon-repo-forked" viewBox="0 0 10 16" version="1.1" width="10" height="16" aria-hidden="true"><path fill-rule="evenodd" d="M8 1a1.993 1.993 0 0 0-1 3.72V6L5 8 3 6V4.72A1.993 1.993 0 0 0 2 1a1.993 1.993 0 0 0-1 3.72V6.5l3 3v1.78A1.993 1.993 0 0 0 5 15a1.993 1.993 0 0 0 1-3.72V9.5l3-3V4.72A1.993 1.993 0 0 0 8 1zM2 4.2C1.34 4.2.8 3.65.8 3c0-.65.55-1.2 1.2-1.2.65 0 1.2.55 1.2 1.2 0 .65-.55 1.2-1.2 1.2zm3 10c-.66 0-1.2-.55-1.2-1.2 0-.65.55-1.2 1.2-1.2.65 0 1.2.55 1.2 1.2 0 .65-.55 1.2-1.2 1.2zm3-10c-.66 0-1.2-.55-1.2-1.2 0-.65.55-1.2 1.2-1.2.65 0 1.2.55 1.2 1.2 0 .65-.55 1.2-1.2 1.2z"/></svg>
              Fork
            </button>
</form>
    <a href="/ryanmasad/Python2/network" class="social-count"
       aria-label="0 users forked this repository">
      0
    </a>
  </li>
</ul>

      <h1 class="public ">
  <svg class="octicon octicon-repo" viewBox="0 0 12 16" version="1.1" width="12" height="16" aria-hidden="true"><path fill-rule="evenodd" d="M4 9H3V8h1v1zm0-3H3v1h1V6zm0-2H3v1h1V4zm0-2H3v1h1V2zm8-1v12c0 .55-.45 1-1 1H6v2l-1.5-1.5L3 16v-2H1c-.55 0-1-.45-1-1V1c0-.55.45-1 1-1h10c.55 0 1 .45 1 1zm-1 10H1v2h2v-1h3v1h5v-2zm0-10H2v9h9V1z"/></svg>
  <span class="author" itemprop="author"><a class="url fn" rel="author" href="/ryanmasad">ryanmasad</a></span><!--
--><span class="path-divider">/</span><!--
--><strong itemprop="name"><a data-pjax="#js-repo-pjax-container" href="/ryanmasad/Python2">Python2</a></strong>

</h1>

    </div>
    
<nav class="reponav js-repo-nav js-sidenav-container-pjax container"
     itemscope
     itemtype="http://schema.org/BreadcrumbList"
     role="navigation"
     data-pjax="#js-repo-pjax-container">

  <span itemscope itemtype="http://schema.org/ListItem" itemprop="itemListElement">
    <a class="js-selected-navigation-item selected reponav-item" itemprop="url" data-hotkey="g c" data-selected-links="repo_source repo_downloads repo_commits repo_releases repo_tags repo_branches repo_packages /ryanmasad/Python2" href="/ryanmasad/Python2">
      <svg class="octicon octicon-code" viewBox="0 0 14 16" version="1.1" width="14" height="16" aria-hidden="true"><path fill-rule="evenodd" d="M9.5 3L8 4.5 11.5 8 8 11.5 9.5 13 14 8 9.5 3zm-5 0L0 8l4.5 5L6 11.5 2.5 8 6 4.5 4.5 3z"/></svg>
      <span itemprop="name">Code</span>
      <meta itemprop="position" content="1">
</a>  </span>

    <span itemscope itemtype="http://schema.org/ListItem" itemprop="itemListElement">
      <a itemprop="url" data-hotkey="g i" class="js-selected-navigation-item reponav-item" data-selected-links="repo_issues repo_labels repo_milestones /ryanmasad/Python2/issues" href="/ryanmasad/Python2/issues">
        <svg class="octicon octicon-issue-opened" viewBox="0 0 14 16" version="1.1" width="14" height="16" aria-hidden="true"><path fill-rule="evenodd" d="M7 2.3c3.14 0 5.7 2.56 5.7 5.7s-2.56 5.7-5.7 5.7A5.71 5.71 0 0 1 1.3 8c0-3.14 2.56-5.7 5.7-5.7zM7 1C3.14 1 0 4.14 0 8s3.14 7 7 7 7-3.14 7-7-3.14-7-7-7zm1 3H6v5h2V4zm0 6H6v2h2v-2z"/></svg>
        <span itemprop="name">Issues</span>
        <span class="Counter">0</span>
        <meta itemprop="position" content="2">
</a>    </span>

  <span itemscope itemtype="http://schema.org/ListItem" itemprop="itemListElement">
    <a data-hotkey="g p" itemprop="url" class="js-selected-navigation-item reponav-item" data-selected-links="repo_pulls checks /ryanmasad/Python2/pulls" href="/ryanmasad/Python2/pulls">
      <svg class="octicon octicon-git-pull-request" viewBox="0 0 12 16" version="1.1" width="12" height="16" aria-hidden="true"><path fill-rule="evenodd" d="M11 11.28V5c-.03-.78-.34-1.47-.94-2.06C9.46 2.35 8.78 2.03 8 2H7V0L4 3l3 3V4h1c.27.02.48.11.69.31.21.2.3.42.31.69v6.28A1.993 1.993 0 0 0 10 15a1.993 1.993 0 0 0 1-3.72zm-1 2.92c-.66 0-1.2-.55-1.2-1.2 0-.65.55-1.2 1.2-1.2.65 0 1.2.55 1.2 1.2 0 .65-.55 1.2-1.2 1.2zM4 3c0-1.11-.89-2-2-2a1.993 1.993 0 0 0-1 3.72v6.56A1.993 1.993 0 0 0 2 15a1.993 1.993 0 0 0 1-3.72V4.72c.59-.34 1-.98 1-1.72zm-.8 10c0 .66-.55 1.2-1.2 1.2-.65 0-1.2-.55-1.2-1.2 0-.65.55-1.2 1.2-1.2.65 0 1.2.55 1.2 1.2zM2 4.2C1.34 4.2.8 3.65.8 3c0-.65.55-1.2 1.2-1.2.65 0 1.2.55 1.2 1.2 0 .65-.55 1.2-1.2 1.2z"/></svg>
      <span itemprop="name">Pull requests</span>
      <span class="Counter">0</span>
      <meta itemprop="position" content="3">
</a>  </span>

    <a data-hotkey="g b" class="js-selected-navigation-item reponav-item" data-selected-links="repo_projects new_repo_project repo_project /ryanmasad/Python2/projects" href="/ryanmasad/Python2/projects">
      <svg class="octicon octicon-project" viewBox="0 0 15 16" version="1.1" width="15" height="16" aria-hidden="true"><path fill-rule="evenodd" d="M10 12h3V2h-3v10zm-4-2h3V2H6v8zm-4 4h3V2H2v12zm-1 1h13V1H1v14zM14 0H1a1 1 0 0 0-1 1v14a1 1 0 0 0 1 1h13a1 1 0 0 0 1-1V1a1 1 0 0 0-1-1z"/></svg>
      Projects
      <span class="Counter" >0</span>
</a>
    <a class="js-selected-navigation-item reponav-item" data-hotkey="g w" data-selected-links="repo_wiki /ryanmasad/Python2/wiki" href="/ryanmasad/Python2/wiki">
      <svg class="octicon octicon-book" viewBox="0 0 16 16" version="1.1" width="16" height="16" aria-hidden="true"><path fill-rule="evenodd" d="M3 5h4v1H3V5zm0 3h4V7H3v1zm0 2h4V9H3v1zm11-5h-4v1h4V5zm0 2h-4v1h4V7zm0 2h-4v1h4V9zm2-6v9c0 .55-.45 1-1 1H9.5l-1 1-1-1H2c-.55 0-1-.45-1-1V3c0-.55.45-1 1-1h5.5l1 1 1-1H15c.55 0 1 .45 1 1zm-8 .5L7.5 3H2v9h6V3.5zm7-.5H9.5l-.5.5V12h6V3z"/></svg>
      Wiki
</a>

  <a class="js-selected-navigation-item reponav-item" data-selected-links="repo_graphs repo_contributors dependency_graph pulse /ryanmasad/Python2/pulse" href="/ryanmasad/Python2/pulse">
    <svg class="octicon octicon-graph" viewBox="0 0 16 16" version="1.1" width="16" height="16" aria-hidden="true"><path fill-rule="evenodd" d="M16 14v1H0V0h1v14h15zM5 13H3V8h2v5zm4 0H7V3h2v10zm4 0h-2V6h2v7z"/></svg>
    Insights
</a>

</nav>


  </div>

<div class="container new-discussion-timeline experiment-repo-nav  ">
  <div class="repository-content ">

    
  <a class="d-none js-permalink-shortcut" data-hotkey="y" href="/ryanmasad/Python2/blob/9fdd327140819a6497727815faeae348d6c03104/code/CometLanding.ipynb">Permalink</a>

  <!-- blob contrib key: blob_contributors:v21:66ea80370f363705f2730370afca9a11 -->

  <div class="file-navigation">
    
<div class="select-menu branch-select-menu js-menu-container js-select-menu float-left">
  <button class=" btn btn-sm select-menu-button js-menu-target css-truncate" data-hotkey="w"
    
    type="button" aria-label="Switch branches or tags" aria-expanded="false" aria-haspopup="true">
      <i>Tree:</i>
      <span class="js-select-button css-truncate-target">9fdd327140</span>
  </button>

  <div class="select-menu-modal-holder js-menu-content js-navigation-container" data-pjax>

    <div class="select-menu-modal">
      <div class="select-menu-header">
        <svg class="octicon octicon-x js-menu-close" role="img" aria-label="Close" viewBox="0 0 12 16" version="1.1" width="12" height="16"><path fill-rule="evenodd" d="M7.48 8l3.75 3.75-1.48 1.48L6 9.48l-3.75 3.75-1.48-1.48L4.52 8 .77 4.25l1.48-1.48L6 6.52l3.75-3.75 1.48 1.48z"/></svg>
        <span class="select-menu-title">Switch branches/tags</span>
      </div>

      <div class="select-menu-filters">
        <div class="select-menu-text-filter">
          <input type="text" aria-label="Find or create a branch…" id="context-commitish-filter-field" class="form-control js-filterable-field js-navigation-enable" placeholder="Find or create a branch…">
        </div>
        <div class="select-menu-tabs">
          <ul>
            <li class="select-menu-tab">
              <a href="#" data-tab-filter="branches" data-filter-placeholder="Find or create a branch…" class="js-select-menu-tab" role="tab">Branches</a>
            </li>
            <li class="select-menu-tab">
              <a href="#" data-tab-filter="tags" data-filter-placeholder="Find a tag…" class="js-select-menu-tab" role="tab">Tags</a>
            </li>
          </ul>
        </div>
      </div>

      <div class="select-menu-list select-menu-tab-bucket js-select-menu-tab-bucket" data-tab-filter="branches" role="menu">

        <div data-filterable-for="context-commitish-filter-field" data-filterable-type="substring">


            <a class="select-menu-item js-navigation-item js-navigation-open "
               href="/ryanmasad/Python2/blob/master/code/CometLanding.ipynb"
               data-name="master"
               data-skip-pjax="true"
               rel="nofollow">
              <svg class="octicon octicon-check select-menu-item-icon" viewBox="0 0 12 16" version="1.1" width="12" height="16" aria-hidden="true"><path fill-rule="evenodd" d="M12 5l-8 8-4-4 1.5-1.5L4 10l6.5-6.5z"/></svg>
              <span class="select-menu-item-text css-truncate-target js-select-menu-filter-text">
                master
              </span>
            </a>
        </div>

          <!-- '"` --><!-- </textarea></xmp> --></option></form><form class="js-create-branch select-menu-item select-menu-new-item-form js-navigation-item js-new-item-form" action="/ryanmasad/Python2/branches" accept-charset="UTF-8" method="post"><input name="utf8" type="hidden" value="&#x2713;" /><input type="hidden" name="authenticity_token" value="RuqIBuI8rjtxgIL94pvBrPGa07dKDQjyts3Gm64UquOGsipRCtssRfMWuKQPDHAndmj6WEITzUmS/nZYtVS3TQ==" />
          <svg class="octicon octicon-git-branch select-menu-item-icon" viewBox="0 0 10 16" version="1.1" width="10" height="16" aria-hidden="true"><path fill-rule="evenodd" d="M10 5c0-1.11-.89-2-2-2a1.993 1.993 0 0 0-1 3.72v.3c-.02.52-.23.98-.63 1.38-.4.4-.86.61-1.38.63-.83.02-1.48.16-2 .45V4.72a1.993 1.993 0 0 0-1-3.72C.88 1 0 1.89 0 3a2 2 0 0 0 1 1.72v6.56c-.59.35-1 .99-1 1.72 0 1.11.89 2 2 2 1.11 0 2-.89 2-2 0-.53-.2-1-.53-1.36.09-.06.48-.41.59-.47.25-.11.56-.17.94-.17 1.05-.05 1.95-.45 2.75-1.25S8.95 7.77 9 6.73h-.02C9.59 6.37 10 5.73 10 5zM2 1.8c.66 0 1.2.55 1.2 1.2 0 .65-.55 1.2-1.2 1.2C1.35 4.2.8 3.65.8 3c0-.65.55-1.2 1.2-1.2zm0 12.41c-.66 0-1.2-.55-1.2-1.2 0-.65.55-1.2 1.2-1.2.65 0 1.2.55 1.2 1.2 0 .65-.55 1.2-1.2 1.2zm6-8c-.66 0-1.2-.55-1.2-1.2 0-.65.55-1.2 1.2-1.2.65 0 1.2.55 1.2 1.2 0 .65-.55 1.2-1.2 1.2z"/></svg>
            <div class="select-menu-item-text">
              <span class="select-menu-item-heading">Create branch: <span class="js-new-item-name"></span></span>
              <span class="description">from ‘9fdd327’</span>
            </div>
            <input type="hidden" name="name" id="name" class="js-new-item-value">
            <input type="hidden" name="branch" id="branch" value="9fdd327140819a6497727815faeae348d6c03104">
            <input type="hidden" name="path" id="path" value="code/CometLanding.ipynb">
</form>
      </div>

      <div class="select-menu-list select-menu-tab-bucket js-select-menu-tab-bucket" data-tab-filter="tags">
        <div data-filterable-for="context-commitish-filter-field" data-filterable-type="substring">


        </div>

        <div class="select-menu-no-results">Nothing to show</div>
      </div>

    </div>
  </div>
</div>

    <div class="BtnGroup float-right">
      <a href="/ryanmasad/Python2/find/9fdd327140819a6497727815faeae348d6c03104"
            class="js-pjax-capture-input btn btn-sm BtnGroup-item"
            data-pjax
            data-hotkey="t">
        Find file
      </a>
      <clipboard-copy
            for="blob-path"
            aria-label="Copy file path to clipboard"
            class="btn btn-sm BtnGroup-item tooltipped tooltipped-s"
            copied-label="Copied!">
        Copy path
      </clipboard-copy>
    </div>
    <div id="blob-path" class="breadcrumb">
      <span class="repo-root js-repo-root"><span class="js-path-segment"><a data-pjax="true" rel="nofollow" href="/ryanmasad/Python2/tree/9fdd327140819a6497727815faeae348d6c03104"><span>Python2</span></a></span></span><span class="separator">/</span><span class="js-path-segment"><a data-pjax="true" rel="nofollow" href="/ryanmasad/Python2/tree/9fdd327140819a6497727815faeae348d6c03104/code"><span>code</span></a></span><span class="separator">/</span><strong class="final-path">CometLanding.ipynb</strong>
    </div>
  </div>


  <include-fragment src="/ryanmasad/Python2/contributors/9fdd327140819a6497727815faeae348d6c03104/code/CometLanding.ipynb" class="commit-tease">
    <div>
      Fetching contributors&hellip;
    </div>

    <div class="commit-tease-contributors">
      <img alt="" class="loader-loading float-left" src="https://assets-cdn.github.com/images/spinners/octocat-spinner-32-EAF2F5.gif" width="16" height="16" />
      <span class="loader-error">Cannot retrieve contributors at this time</span>
    </div>
</include-fragment>


  <div class="file">
    <div class="file-header">
  <div class="file-actions">
      <div class="BtnGroup">
        <a class="btn btn-sm BtnGroup-item tooltipped tooltipped tooltipped-n source "
          href="/ryanmasad/Python2/blob/9fdd327140819a6497727815faeae348d6c03104/code/CometLanding.ipynb?short_path=26ca68c" aria-label="Display the source blob">
          <svg class="octicon octicon-code" viewBox="0 0 14 16" version="1.1" width="14" height="16" aria-hidden="true"><path fill-rule="evenodd" d="M9.5 3L8 4.5 11.5 8 8 11.5 9.5 13 14 8 9.5 3zm-5 0L0 8l4.5 5L6 11.5 2.5 8 6 4.5 4.5 3z"/></svg>
        </a>
        <a class="btn btn-sm BtnGroup-item tooltipped tooltipped-n rendered selected"
          href="/ryanmasad/Python2/blob/9fdd327140819a6497727815faeae348d6c03104/code/CometLanding.ipynb" aria-label="Display the rendered blob">
          <svg class="octicon octicon-file" viewBox="0 0 12 16" version="1.1" width="12" height="16" aria-hidden="true"><path fill-rule="evenodd" d="M6 5H2V4h4v1zM2 8h7V7H2v1zm0 2h7V9H2v1zm0 2h7v-1H2v1zm10-7.5V14c0 .55-.45 1-1 1H1c-.55 0-1-.45-1-1V2c0-.55.45-1 1-1h7.5L12 4.5zM11 5L8 2H1v12h10V5z"/></svg>
        </a>
      </div>

    <div class="BtnGroup">
      <a id="raw-url" class="btn btn-sm BtnGroup-item" href="/ryanmasad/Python2/raw/9fdd327140819a6497727815faeae348d6c03104/code/CometLanding.ipynb">Raw</a>
        <a class="btn btn-sm js-update-url-with-hash BtnGroup-item" data-hotkey="b" href="/ryanmasad/Python2/blame/9fdd327140819a6497727815faeae348d6c03104/code/CometLanding.ipynb">Blame</a>
      <a rel="nofollow" class="btn btn-sm BtnGroup-item" href="/ryanmasad/Python2/commits/9fdd327140819a6497727815faeae348d6c03104/code/CometLanding.ipynb">History</a>
    </div>

        <button class="btn-octicon disabled tooltipped tooltipped-nw"
           type="button"
           disabled
           aria-label="You must be on a branch to open this file in GitHub Desktop">
            <svg class="octicon octicon-device-desktop" viewBox="0 0 16 16" version="1.1" width="16" height="16" aria-hidden="true"><path fill-rule="evenodd" d="M15 2H1c-.55 0-1 .45-1 1v9c0 .55.45 1 1 1h5.34c-.25.61-.86 1.39-2.34 2h8c-1.48-.61-2.09-1.39-2.34-2H15c.55 0 1-.45 1-1V3c0-.55-.45-1-1-1zm0 9H1V3h14v8z"/></svg>
        </button>

        <button type="button" class="btn-octicon disabled tooltipped tooltipped-nw"
          aria-label="You must be on a branch to make or propose changes to this file">
          <svg class="octicon octicon-pencil" viewBox="0 0 14 16" version="1.1" width="14" height="16" aria-hidden="true"><path fill-rule="evenodd" d="M0 12v3h3l8-8-3-3-8 8zm3 2H1v-2h1v1h1v1zm10.3-9.3L12 6 9 3l1.3-1.3a.996.996 0 0 1 1.41 0l1.59 1.59c.39.39.39 1.02 0 1.41z"/></svg>
        </button>
        <button type="button" class="btn-octicon btn-octicon-danger disabled tooltipped tooltipped-nw"
          aria-label="You must be on a branch to make or propose changes to this file">
          <svg class="octicon octicon-trashcan" viewBox="0 0 12 16" version="1.1" width="12" height="16" aria-hidden="true"><path fill-rule="evenodd" d="M11 2H9c0-.55-.45-1-1-1H5c-.55 0-1 .45-1 1H2c-.55 0-1 .45-1 1v1c0 .55.45 1 1 1v9c0 .55.45 1 1 1h7c.55 0 1-.45 1-1V5c.55 0 1-.45 1-1V3c0-.55-.45-1-1-1zm-1 12H3V5h1v8h1V5h1v8h1V5h1v8h1V5h1v9zm1-10H2V3h9v1z"/></svg>
        </button>
  </div>

  <div class="file-info">
      753 lines (752 sloc)
      <span class="file-info-divider"></span>
    23.6 KB
  </div>
</div>

    

  <div itemprop="text" class="blob-wrapper data type-jupyter-notebook">
      
  <div class="render-wrapper">
    <div class="render-container is-render-pending js-render-target "
      data-identity="4d168351-8ee8-4deb-837e-41a099aa3032"
      data-host="https://render.githubusercontent.com"
      data-type="ipynb">
      <img class="octospinner" alt="" src="https://assets-cdn.github.com/images/spinners/octocat-spinner-128.gif" width="64" height="64" />
      <div class="render-viewer-error">Sorry, something went wrong. <a href="https://github.com/ryanmasad/Python2/blob/9fdd327140819a6497727815faeae348d6c03104/code/CometLanding.ipynb">Reload?</a></div>
      <div class="render-viewer-fatal">Sorry, we cannot display this file.</div>
      <div class="render-viewer-invalid">Sorry, this file is invalid so it cannot be displayed.</div>
      <iframe class="render-viewer" src="https://render.githubusercontent.com/view/ipynb?commit=9fdd327140819a6497727815faeae348d6c03104&amp;enc_url=68747470733a2f2f7261772e67697468756275736572636f6e74656e742e636f6d2f7279616e6d617361642f507974686f6e322f396664643332373134303831396136343937373237383135666165616533343864366330333130342f636f64652f436f6d65744c616e64696e672e6970796e62&amp;nwo=ryanmasad%2FPython2&amp;path=code%2FCometLanding.ipynb&amp;repository_id=127750948&amp;repository_type=Repository#4d168351-8ee8-4deb-837e-41a099aa3032" sandbox="allow-scripts allow-same-origin allow-top-navigation ">Viewer requires iframe.</iframe>
    </div>
  </div>

  </div>

  </div>

  <button type="button" data-facebox="#jump-to-line" data-facebox-class="linejump" data-hotkey="l" class="d-none">Jump to Line</button>
  <div id="jump-to-line" style="display:none">
    <!-- '"` --><!-- </textarea></xmp> --></option></form><form class="js-jump-to-line-form" action="" accept-charset="UTF-8" method="get"><input name="utf8" type="hidden" value="&#x2713;" />
      <input class="form-control linejump-input js-jump-to-line-field" type="text" placeholder="Jump to line&hellip;" aria-label="Jump to line" autofocus>
      <button type="submit" class="btn">Go</button>
</form>  </div>


  </div>
  <div class="modal-backdrop js-touch-events"></div>
</div>

    </div>
  </div>

  </div>

      
<div class="footer container-lg px-3" role="contentinfo">
  <div class="position-relative d-flex flex-justify-between pt-6 pb-2 mt-6 f6 text-gray border-top border-gray-light ">
    <ul class="list-style-none d-flex flex-wrap ">
      <li class="mr-3">&copy; 2018 <span title="0.29683s from unicorn-2998734808-0mcrs">GitHub</span>, Inc.</li>
        <li class="mr-3"><a data-ga-click="Footer, go to terms, text:terms" href="https://github.com/site/terms">Terms</a></li>
        <li class="mr-3"><a data-ga-click="Footer, go to privacy, text:privacy" href="https://github.com/site/privacy">Privacy</a></li>
        <li class="mr-3"><a href="https://help.github.com/articles/github-security/" data-ga-click="Footer, go to security, text:security">Security</a></li>
        <li class="mr-3"><a href="https://status.github.com/" data-ga-click="Footer, go to status, text:status">Status</a></li>
        <li><a data-ga-click="Footer, go to help, text:help" href="https://help.github.com">Help</a></li>
    </ul>

    <a aria-label="Homepage" title="GitHub" class="footer-octicon" href="https://github.com">
      <svg height="24" class="octicon octicon-mark-github" viewBox="0 0 16 16" version="1.1" width="24" aria-hidden="true"><path fill-rule="evenodd" d="M8 0C3.58 0 0 3.58 0 8c0 3.54 2.29 6.53 5.47 7.59.4.07.55-.17.55-.38 0-.19-.01-.82-.01-1.49-2.01.37-2.53-.49-2.69-.94-.09-.23-.48-.94-.82-1.13-.28-.15-.68-.52-.01-.53.63-.01 1.08.58 1.23.82.72 1.21 1.87.87 2.33.66.07-.52.28-.87.51-1.07-1.78-.2-3.64-.89-3.64-3.95 0-.87.31-1.59.82-2.15-.08-.2-.36-1.02.08-2.12 0 0 .67-.21 2.2.82.64-.18 1.32-.27 2-.27.68 0 1.36.09 2 .27 1.53-1.04 2.2-.82 2.2-.82.44 1.1.16 1.92.08 2.12.51.56.82 1.27.82 2.15 0 3.07-1.87 3.75-3.65 3.95.29.25.54.73.54 1.48 0 1.07-.01 1.93-.01 2.2 0 .21.15.46.55.38A8.013 8.013 0 0 0 16 8c0-4.42-3.58-8-8-8z"/></svg>
</a>
   <ul class="list-style-none d-flex flex-wrap ">
        <li class="mr-3"><a data-ga-click="Footer, go to contact, text:contact" href="https://github.com/contact">Contact GitHub</a></li>
      <li class="mr-3"><a href="https://developer.github.com" data-ga-click="Footer, go to api, text:api">API</a></li>
      <li class="mr-3"><a href="https://training.github.com" data-ga-click="Footer, go to training, text:training">Training</a></li>
      <li class="mr-3"><a href="https://shop.github.com" data-ga-click="Footer, go to shop, text:shop">Shop</a></li>
        <li class="mr-3"><a href="https://blog.github.com" data-ga-click="Footer, go to blog, text:blog">Blog</a></li>
        <li><a data-ga-click="Footer, go to about, text:about" href="https://github.com/about">About</a></li>

    </ul>
  </div>
  <div class="d-flex flex-justify-center pb-6">
    <span class="f6 text-gray-light"></span>
  </div>
</div>



  <div id="ajax-error-message" class="ajax-error-message flash flash-error">
    <svg class="octicon octicon-alert" viewBox="0 0 16 16" version="1.1" width="16" height="16" aria-hidden="true"><path fill-rule="evenodd" d="M8.865 1.52c-.18-.31-.51-.5-.87-.5s-.69.19-.87.5L.275 13.5c-.18.31-.18.69 0 1 .19.31.52.5.87.5h13.7c.36 0 .69-.19.86-.5.17-.31.18-.69.01-1L8.865 1.52zM8.995 13h-2v-2h2v2zm0-3h-2V6h2v4z"/></svg>
    <button type="button" class="flash-close js-ajax-error-dismiss" aria-label="Dismiss error">
      <svg class="octicon octicon-x" viewBox="0 0 12 16" version="1.1" width="12" height="16" aria-hidden="true"><path fill-rule="evenodd" d="M7.48 8l3.75 3.75-1.48 1.48L6 9.48l-3.75 3.75-1.48-1.48L4.52 8 .77 4.25l1.48-1.48L6 6.52l3.75-3.75 1.48 1.48z"/></svg>
    </button>
    You can’t perform that action at this time.
  </div>


    
    <script crossorigin="anonymous" integrity="sha512-yNr0q+cdUZ7oyTrEbVbhiYGFYmrAMbaxySSMyAyKD/aeBDYeT5Ljsi7D5VN2pTojNgRVWAwNwv1ub03StbDwhg==" type="application/javascript" src="https://assets-cdn.github.com/assets/frameworks-cae483278a9c7126c25f62f25f2cfb95.js"></script>
    
    <script crossorigin="anonymous" async="async" integrity="sha512-RAr33PKmsuha3Uw8ESAE3a6cvY1YuFwo5VGGlVOeZIQh5FkcrQP0Sx0S9yOoZN4I+tyO9WgWhZtH2BICe+gw0Q==" type="application/javascript" src="https://assets-cdn.github.com/assets/github-de55412703a1ddf8c4a0f93129fdd24e.js"></script>
    
    
    
    
  <div class="js-stale-session-flash stale-session-flash flash flash-warn flash-banner d-none">
    <svg class="octicon octicon-alert" viewBox="0 0 16 16" version="1.1" width="16" height="16" aria-hidden="true"><path fill-rule="evenodd" d="M8.865 1.52c-.18-.31-.51-.5-.87-.5s-.69.19-.87.5L.275 13.5c-.18.31-.18.69 0 1 .19.31.52.5.87.5h13.7c.36 0 .69-.19.86-.5.17-.31.18-.69.01-1L8.865 1.52zM8.995 13h-2v-2h2v2zm0-3h-2V6h2v4z"/></svg>
    <span class="signed-in-tab-flash">You signed in with another tab or window. <a href="">Reload</a> to refresh your session.</span>
    <span class="signed-out-tab-flash">You signed out in another tab or window. <a href="">Reload</a> to refresh your session.</span>
  </div>
  <div class="facebox" id="facebox" style="display:none;">
  <div class="facebox-popup">
    <div class="facebox-content" role="dialog" aria-labelledby="facebox-header" aria-describedby="facebox-description">
    </div>
    <button type="button" class="facebox-close js-facebox-close" aria-label="Close modal">
      <svg class="octicon octicon-x" viewBox="0 0 12 16" version="1.1" width="12" height="16" aria-hidden="true"><path fill-rule="evenodd" d="M7.48 8l3.75 3.75-1.48 1.48L6 9.48l-3.75 3.75-1.48-1.48L4.52 8 .77 4.25l1.48-1.48L6 6.52l3.75-3.75 1.48 1.48z"/></svg>
    </button>
  </div>
</div>

  <div class="Popover js-hovercard-content position-absolute" style="display: none; outline: none;" tabindex="0">
  <div class="Popover-message Popover-message--bottom-left Popover-message--large Box box-shadow-large" style="width:360px;">
  </div>
</div>

<div id="hovercard-aria-description" class="sr-only">
  Press h to open a hovercard with more details.
</div>


  </body>
</html>

>>>>>>> 657c9f84d4e97161c664a33ae959e2e614ee19cd
